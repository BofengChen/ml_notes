{
 "cells": [
  {
   "cell_type": "markdown",
   "metadata": {},
   "source": [
    "# 支持向量机"
   ]
  },
  {
   "cell_type": "markdown",
   "metadata": {},
   "source": [
    "## 问题的数学化表达"
   ]
  },
  {
   "cell_type": "markdown",
   "metadata": {},
   "source": [
    "给定训练样本集 $D = \\{(\\mathbf{x}_i, y_i)\\}_{i=1}^m, y_i\\in\\{-1, +1\\}$， 分类学习最基本的想法就是基于训练集 D 给出一个划分超平面（更一般情形是找一个分类曲面，或者称为分类连续光滑可微的函数），将不同类别分开。"
   ]
  },
  {
   "cell_type": "markdown",
   "metadata": {},
   "source": [
    "<img src=\"figure/svm.png\" width=\"400\" hegiht=\"300\" align=left />"
   ]
  },
  {
   "cell_type": "markdown",
   "metadata": {},
   "source": [
    "我们要找的是图中红色的划分超平面，因为它到两类样本集的距离一样远，这意味着对新出现样本的分类准确性是最高的，泛化能力强。超平面的一般表达形式如下：\n",
    "\n",
    "$$ \\mathbf{w}^T \\mathbf{x} + b = 0 $$\n",
    "\n",
    "其中 $\\mathbf{w} = (w_1, w_2, ... ,w_d)^T$ 是超平面的法向量，我们记超平面为 $(\\mathbf{w}, b)$。样本空间点 $\\mathbf{x_1}$ 到超平面 $(\\mathbf{w}, b)$ 的距离为\n",
    "\n",
    "$$d = \\frac{| \\mathbf{w}^T \\mathbf{x_1} + b|}{|| \\mathbf{w} ||}$$"
   ]
  },
  {
   "cell_type": "markdown",
   "metadata": {},
   "source": [
    "$D = \\{(\\mathbf{x}_i, y_i)\\}_{i=1}^m = D_+\\cup D_-$ 将D拆分成两个类别集合。则训练样本 $(\\mathbf{x}_i, y_i)$ 到 $(\\mathbf{w}, b)$ 的距离为\n",
    "\n",
    "$$d((\\mathbf{x}_i, y_i);(\\mathbf{w}, b)) = \\frac{| \\mathbf{w}^T \\mathbf{x}_i + b|}{|| \\mathbf{w} ||}$$"
   ]
  },
  {
   "cell_type": "markdown",
   "metadata": {},
   "source": [
    "假设正例集合 $D_+$ 子集 $SubD_+$ 中的点到划分超平面的距离是 $D_+$ 到超平面的距离的最小值，记为\n",
    "\n",
    "$$d^\\star_+ = d(SubD_+;(\\mathbf{w}, b)) = \\min_{D_+}(\\frac{| \\mathbf{w}^T \\mathbf{x}_i + b|}{|| \\mathbf{w} ||}), \\quad \\mathbf{x}_i \\in D_+$$"
   ]
  },
  {
   "cell_type": "markdown",
   "metadata": {},
   "source": [
    "同样地，反例集合 $D_-$ 子集 $SubD_-$ 中的点到划分超平面的距离是 $D_-$ 到超平面的距离的最小值，记为\n",
    "\n",
    "$$d^\\star_- = d(SubD_-;(\\mathbf{w}, b)) = \\min_{D_-}(\\frac{| \\mathbf{w}^T \\mathbf{x}_i + b|}{|| \\mathbf{w} ||}), \\quad \\mathbf{x}_i \\in D_-$$"
   ]
  },
  {
   "cell_type": "markdown",
   "metadata": {},
   "source": [
    "我们希望划分超平面可以满足：\n",
    "\n",
    "$$d^\\star_+ = d^\\star_-$$\n",
    "\n",
    "即**划分超平面到两类样本的距离相同，并且这个距离越大越好。我们同时称$SubD_+$、$SubD_-$里的向量为集合 D 中的“支持向量”。**"
   ]
  },
  {
   "cell_type": "markdown",
   "metadata": {},
   "source": [
    "假设 \n",
    "$$| \\mathbf{w}^T \\mathbf{x}^\\star_+ + b| = | \\mathbf{w}^T \\mathbf{x}^\\star_- + b| = \\sigma  \\quad \\mathbf{x}^\\star_+\\in SubD_+, \\quad \\mathbf{x}^\\star_-\\in SubD_-$$"
   ]
  },
  {
   "cell_type": "markdown",
   "metadata": {},
   "source": [
    "$\\sigma$ 就是训练集到划分超平面的“间隔”。我们通过归一化来给出求解划分超平面参数的基本型。\n",
    "\n",
    "令\n",
    "$$\\left\\{\\begin{aligned}\n",
    "\\widetilde{w} &  = \\frac{w}{\\sigma}\\\\\n",
    "\\widetilde{b} &  = \\frac{b}{\\sigma}\n",
    "\\end{aligned}\\right.$$"
   ]
  },
  {
   "cell_type": "markdown",
   "metadata": {},
   "source": [
    "则 $ \\widetilde{\\mathbf{w}}^T \\mathbf{x} + \\widetilde{b} = 0 $ 等价于 $\\mathbf{w}^T \\mathbf{x} + b = 0$，只是等比例的缩放。\n",
    "\n",
    "对应地有\n",
    "\n",
    "$$| \\widetilde{\\mathbf{w}}^T \\mathbf{x}^\\star_+ + \\widetilde{b}| = \\frac{1}{\\sigma}| \\mathbf{w}^T \\mathbf{x}^\\star_+ + b| = 1$$"
   ]
  },
  {
   "cell_type": "markdown",
   "metadata": {},
   "source": [
    "以正例集合为例，对应的间隔为\n",
    "\n",
    "$$d^\\star_+ = \\widetilde{d}^\\star_+ = \\frac{| \\widetilde{\\mathbf{w}}^T \\mathbf{x}^\\star_+ + \\widetilde{b}|}{|| \\widetilde{\\mathbf{w}} ||} = \\frac{1}{|| \\widetilde{\\mathbf{w}} ||}$$"
   ]
  },
  {
   "cell_type": "markdown",
   "metadata": {},
   "source": [
    "所以我们要找到具有“最大间隔”的划分超平面，等价于求满足上面约束的“间隔”的最大值：\n",
    "\n",
    "$$\\left\\{\\begin{aligned}\n",
    "\\max_{(\\widetilde{w}, \\widetilde{b})} \\frac{2}{|| \\widetilde{\\mathbf{w}} ||} &\\\\\n",
    "y_i(\\widetilde{\\mathbf{w}}^T \\mathbf{x}_i + \\widetilde{b}) & \\geq \\widetilde{\\mathbf{w}}^T \\mathbf{x}^\\star_+ + \\widetilde{b} = 1 \\quad i = 1,2,...,m\n",
    "\\end{aligned}\\right.$$"
   ]
  },
  {
   "cell_type": "markdown",
   "metadata": {},
   "source": [
    "上式等价于（我们下面依旧采用 w、b 的记号）：\n",
    "\n",
    "$$\\left\\{\\begin{aligned}\n",
    "\\min_{(w, b)} \\frac{|| \\mathbf{w} ||^2}{2} &\\\\\n",
    "s.t. \\quad y_i(\\mathbf{w}^T \\mathbf{x}_i + b) & \\geq  1 \\quad i = 1,2,...,m\n",
    "\\end{aligned}\\right. \\tag{svm model}$$\n",
    "\n",
    "这就是**支持向量机(Support Vector Machine)的基本型。**"
   ]
  },
  {
   "cell_type": "markdown",
   "metadata": {},
   "source": [
    "## 对偶问题"
   ]
  },
  {
   "cell_type": "markdown",
   "metadata": {},
   "source": [
    "求解参数的 svm model 是一个凸二次规划，有现成的优化计算包求解，但我们有更高效的办法。\n",
    "\n",
    "由 **1.2 节的Lagrange对偶与KKT条件**可知对 svm model 使用 **拉格朗日乘子法** 可以得到其“对偶问题”如下：\n",
    "\n",
    "$$\\max_{\\alpha \\geq 0}\\min_{\\mathbf{w}, b} L(\\mathbf{w}, b, \\alpha)$$"
   ]
  },
  {
   "cell_type": "markdown",
   "metadata": {},
   "source": [
    "其中:\n",
    "\n",
    "$$ L(\\mathbf{w}, b, \\alpha) = \\frac{|| \\mathbf{w} ||^2}{2} + \\sum_{i=1}^m \\alpha_i(1- y_i(\\mathbf{w}^T \\mathbf{x}_i + b))$$"
   ]
  },
  {
   "cell_type": "markdown",
   "metadata": {},
   "source": [
    "对应的KKT条件是：\n",
    "\n",
    "$$\\left\\{\\begin{aligned}\n",
    "\\nabla_{\\mathbf{w},b}  L(\\mathbf{w}, b, \\mathbf{\\alpha}) = \\mathbf{0}\\\\\n",
    "1- y_i(\\mathbf{w}^T \\mathbf{x}_i + b) \\leq  0  \\\\\n",
    "\\alpha_i \\geq 0 \\\\\n",
    "\\alpha_i (1- y_i(\\mathbf{w}^T \\mathbf{x}_i + b)) = 0\n",
    "\\end{aligned}\\right. \\tag{KKT}$$"
   ]
  },
  {
   "cell_type": "markdown",
   "metadata": {},
   "source": [
    "**由KKT的最后一个条件可知**:\n",
    "* 对于 $x \\in D_{+(-)}\\setminus subD_{+(-)}$的向量是不属于“支持向量”的训练样本，有$y_i(\\mathbf{w}^T \\mathbf{x}_i + b)>1$,所以必然有 $\\alpha_i = 0$;\n",
    "* 对于支持向量，有$\\alpha_i \\geq 0$。\n",
    "\n",
    "以上体现出拉格朗日算子对“支持向量”的灵敏度。"
   ]
  },
  {
   "cell_type": "markdown",
   "metadata": {},
   "source": [
    "将 KKT 条件中的梯度求导，得到：\n",
    "\n",
    "$$ \\mathbf{w} = \\sum_{i=1}^{m} \\alpha_i y_i \\mathbf{x}_i$$\n",
    "$$ 0  = \\sum_{i=1}^{m} \\alpha_i y_i$$"
   ]
  },
  {
   "cell_type": "markdown",
   "metadata": {},
   "source": [
    "将上面两式带入 $L(\\mathbf{w}, b, \\alpha)$，可以将 $\\mathbf{w}$和 b消去，得到如下的约束问题：\n",
    "\n",
    "$$\\max_{\\mathbf{\\alpha}} \\left(\\sum_{i=1}^m\\alpha_i - \\frac{1}{2} \\sum_{i=1}^{m}\\sum_{j=1}^{m}\\alpha_i\\alpha_j y_{i} y_{j}\\mathbf{x}^T_i\\mathbf{x}_j\\right)$$\n",
    "s.t.\n",
    "$$\\left\\{\\begin{aligned}\n",
    "0  = \\sum_{i=1}^{m} \\alpha_i y_i\\\\\n",
    "1- y_i(\\mathbf{w}^T \\mathbf{x}_i + b) \\leq  0  \\\\\n",
    "\\alpha_i \\geq 0 \\\\\n",
    "\\alpha_i (1- y_i(\\mathbf{w}^T \\mathbf{x}_i + b)) = 0\n",
    "\\end{aligned}\\right. \\tag{KKT}$$"
   ]
  },
  {
   "cell_type": "markdown",
   "metadata": {},
   "source": [
    "针对KKT的最后一个条件，记 $SV = SubD_{+}\\cup SubD_{-}$为所有支持向量的集合，集合元素个数是 $n_{sv}$。\n",
    "\n",
    "**关于$\\mathbf{w}$**\n",
    "\n",
    "解出 $\\alpha$ 之后，因为对于不属于支持向量的样本， $\\alpha_i = 0$,可以直接得到 $\\mathbf{w}$ 为：\n",
    "\n",
    "$$ \\mathbf{w} = \\sum_{i\\in SV}\\alpha_i y_i \\mathbf{x}_i$$\n",
    "\n",
    "**关于$b$**\n",
    "\n",
    "对于$x\\in SV$,有：\n",
    "\n",
    "$$1- y_i(\\mathbf{w}^T \\mathbf{x}_i + b)=0$$\n",
    "\n",
    "两边乘以 $y_i$， 并且关于集合 SV 中的元素进行求和，由 $y_i^2 = 1$可知\n",
    "\n",
    "$$n_{sv}b + \\mathbf{w}^T\\sum_{i\\in SV}\\mathbf{x}_i = \\sum_{i\\in SV}y_i$$\n",
    "\n",
    "所以\n",
    "\n",
    "$$b = \\frac{\\sum_{i\\in SV}y_i - \\mathbf{w}^T\\sum_{i\\in SV}\\mathbf{x}_i}{n_{sv}} = \n",
    "\\frac{\\sum_{i\\in SV}y_i - \\sum_{i\\in SV}\\sum_{j\\in SV}\\alpha_i y_i \\mathbf{x}^T_i\\mathbf{x}_j}{n_{sv}}$$"
   ]
  },
  {
   "cell_type": "markdown",
   "metadata": {},
   "source": [
    "最终，我们得到了支持向量机的判别器：\n",
    "\n",
    "$$f(\\mathbf{x}) = sgn\\left(\\mathbf{w}^T \\mathbf{x}+ b\\right)\n",
    "= sgn\\left(\\sum_{i\\in SV}\\alpha_i y_i \\mathbf{x}_i^T \\mathbf{x} + \\frac{\\sum_{i\\in SV}y_i - \\sum_{i\\in SV}\\sum_{j\\in SV}\\alpha_i y_i \\mathbf{x}^T_i\\mathbf{x}_j}{n_{sv}}\\right)$$"
   ]
  },
  {
   "cell_type": "markdown",
   "metadata": {},
   "source": [
    "## [SMO算法解Lagrange算子](https://zh.wikipedia.org/wiki/%E5%BA%8F%E5%88%97%E6%9C%80%E5%B0%8F%E4%BC%98%E5%8C%96%E7%AE%97%E6%B3%95)"
   ]
  },
  {
   "cell_type": "markdown",
   "metadata": {},
   "source": [
    "## 核函数"
   ]
  },
  {
   "cell_type": "markdown",
   "metadata": {},
   "source": [
    "之前的我们的讨论都是基于训练集是线性可分的，存在一个划分超平面可以将训练集正确分类。实际问题中，训练集也许并不可分。我们的思路是，**将原始样本从原始空间映射到高维度的样本空间，使得样本在这个空间线性可分。**"
   ]
  },
  {
   "cell_type": "markdown",
   "metadata": {},
   "source": [
    "令 $\\phi(\\mathbf{x})$表示将$\\mathbf{x}$映射后的样本向量,于是在高维空间划分超平面对应的模型为：\n",
    "\n",
    "$$f(\\mathbf{x}) = \\mathbf{w}^T \\phi(\\mathbf{x}) + b$$"
   ]
  },
  {
   "cell_type": "markdown",
   "metadata": {},
   "source": [
    "和原来一样，对应的对偶问题是：\n",
    "\n",
    "$$\\max_{\\mathbf{\\alpha}} \\left(\\sum_{i=1}^m\\alpha_i - \\frac{1}{2} \\sum_{i=1}^{m}\\sum_{j=1}^{m}\\alpha_i\\alpha_j y_{i} y_{j}\\phi(\\mathbf{x}_i)^T\\phi(\\mathbf{x}_j)\\right)$$\n",
    "\n",
    "$$s.t. \\quad \\sum_{i=1}^{m} \\alpha_i y_i=0 \\quad \\alpha_i \\geq 0$$"
   ]
  },
  {
   "cell_type": "markdown",
   "metadata": {},
   "source": [
    "上式涉及到计算 $\\phi(\\mathbf{x}_i)^T\\phi(\\mathbf{x}_j)$，在高维空间的内积。因为**在高维甚至无穷维空间计算向量内积的复杂度是很高的，所以我们引入了“核函数”（kernal function）如下**：\n",
    "\n",
    "$$K(\\mathbf{x}_i, \\mathbf{x}_j) = \\langle \\phi(\\mathbf{x}_i),\\phi(\\mathbf{x}_j)\\rangle = \\phi(\\mathbf{x}_i)^T\\phi(\\mathbf{x}_j)$$"
   ]
  },
  {
   "cell_type": "markdown",
   "metadata": {},
   "source": [
    "将样本之间在高维空间的内积转化为在原始样本空间通过核函数计算的结果（[例子](http://www.cnblogs.com/jerrylead/archive/2011/03/18/1988406.html)）。"
   ]
  },
  {
   "cell_type": "markdown",
   "metadata": {},
   "source": [
    "**$\\mathbf{x}_i^T\\mathbf{x}_j$ 是两个向量的内积，内积含义是衡量两个向量的相似性。引入核函数后，相当于重新定义了相似性（一般是映射到更高维度，相当于站在更高的视角（引入更多特征）来看待样本之间的相似性）。之前对于线性回归，使用多项式特征来增加特征数，本质上也是从低维度映射到高维度。**"
   ]
  },
  {
   "cell_type": "markdown",
   "metadata": {},
   "source": [
    "核函数的特点：\n",
    "1. 因为计算效率的缘故，我们引入了核函数，但核函数对应的映射我们并不知道，所以我们并不知道什么样的核函数是合适的，“核函数选择”是一个需要技巧的尝试。一些基本的经验是，文本数据经常采用线性核，情况不明时采用高斯核；\n",
    "2. 核函数的加权和、直积、与任意函数的作用（为了保持对称，需要左右同时乘）也还是核函数。"
   ]
  },
  {
   "cell_type": "markdown",
   "metadata": {},
   "source": [
    "常见核函数如下："
   ]
  },
  {
   "cell_type": "markdown",
   "metadata": {},
   "source": [
    "<img src='figure/SVM_01.png' width=\"500\" hegiht=\"500\" align=left />"
   ]
  },
  {
   "cell_type": "markdown",
   "metadata": {},
   "source": [
    "注：\n",
    "1. 一般意义上的多项式核表达形式为：$K(\\mathbf{x}_i, \\mathbf{x}_j) = (\\gamma\\mathbf{x}_i^T\\mathbf{x}_j + c)^n$；\n",
    "2. 高斯核可以分解为一个无穷级数与其自身的乘积，也就是说高斯核对应的映射可以把特征向量映射到无线维空间里。"
   ]
  },
  {
   "cell_type": "markdown",
   "metadata": {},
   "source": [
    "**一个简单的例子**\n",
    "\n",
    "假设向量 $\\mathbf{x}_1 = (a, b)^T, \\mathbf{x}_2 = (1, 1)^T$，如果将二维样本映射到四维空间，映射函数为 \n",
    "\n",
    "$$\\phi(\\mathbf{x}) = (x_1 x_1, x_1 x_2, x_2 x_1, x_2 x_2)^T$$\n",
    "\n",
    "则有\n",
    "\n",
    "$$\\phi(\\hat{\\mathbf{x}}_1) = (a^2, ab, ba, b^2)^T, \\; \\phi(\\hat{\\mathbf{x}}_2) = (1, 1, 1, 1)^T$$\n",
    "\n",
    "对应的高维特征向量的内积是\n",
    "\n",
    "$$\\phi(\\hat{\\mathbf{x}}_1)^T \\phi(\\hat{\\mathbf{x}}_2) = a^2 + ab + ba + b^2 = (a+b)^2$$\n",
    "\n",
    "四维空间内积的运算次数是7次（乘法和加法各算一次）。该映射对应的核函数为\n",
    "\n",
    "$$K(\\mathbf{x}_1, \\mathbf{x}_2) = (\\mathbf{x}_1^T\\mathbf{x}_2)^2 = (a + b)^2$$\n",
    "\n",
    "在二维空间多项式核函数的运算只需要3次。**对比可知，直接求解高维映射的内积相比通过核函数来计算，核函数的复杂度是很低的。**"
   ]
  },
  {
   "cell_type": "markdown",
   "metadata": {},
   "source": [
    "## 核函数特性对比及算法选择"
   ]
  },
  {
   "cell_type": "markdown",
   "metadata": {},
   "source": [
    "**几个核函数的特性对比如下：**\n",
    "\n",
    "| 核函数 | 优点 | 缺点 |\n",
    "| :---------------| :---------- | :---------- |\n",
    "| 线性核    | 简单，运算效率高 | 对线性不可分的数据集无解 |\n",
    "| 多项式核   | 可以拟合出复杂的分割超平面 | 1. 可选参数太多（3个）；2.阶数n不宜太高，否则第一项的n次方容易向0和无穷大两极走 |\n",
    "| 高斯核   | 1.拟合能力最强；2.参数容易选择 | 1.映射到无限维不直观；2.计算速度慢；3.模型复杂，容易过拟合 |"
   ]
  },
  {
   "cell_type": "markdown",
   "metadata": {},
   "source": [
    "**假设特征个数是n ， 样本数量是 m，按照 n 和 m 的关系来选择LR、SVM：**\n",
    "\n",
    "| n，m量级对比关系 | (n,m)量级举例 | 模型选择 |\n",
    "| :---------------| :---------- | :---------- |\n",
    "| $n \\gg m$ | (10000, 10-1000) | LR 或 线性核的 SVM |\n",
    "| $n < m$   | (1-1000, 10-10000) | Gauss 核的 SVM |\n",
    "| $n \\ll m$    | (1-1000, 50000+) | 多项式核 或 Gauss核的SVM |"
   ]
  },
  {
   "cell_type": "markdown",
   "metadata": {},
   "source": [
    "**更一般的算法选择原则是：**\n",
    "\n",
    "1. 针对数据量很大的问题，可以选择复杂一点的模型，虽然容易过拟合，但因为数据量大，可以有效弥补过拟合；\n",
    "2. 如果数据量比较小，一般要选择简单一点的模型，否则很容易造成过拟合，此时也要特别注意模型是否欠拟合，如果出现欠拟合，可以通过增加多项式特征来纠正欠拟合问题。"
   ]
  },
  {
   "cell_type": "markdown",
   "metadata": {},
   "source": [
    "## 软间隔与正则化\n",
    "\n",
    "在“核函数”这一节，我们对于不可分的训练集采用的办法是通过核函数来进行“升维”，这里面除了很难确定合适的核函数外，即使找到了某个核函数利于训练集在高维空间的线性可分，也很难断定是否是因为过拟合造成的。\n",
    "\n",
    "缓解该问题的一个办法是允许支持向量机在一些样本上出错。也就是我们下面要引入的“软间隔”概念。\n",
    "\n",
    "_**针对线性不可分这个问题，“核函数”和“软间隔”是两种完全不同的思路（可以同时考虑两个手段），前者相当于改变数据结构，后者把心思花在允许“舍弃”部分数据来解决问题。**_"
   ]
  },
  {
   "cell_type": "markdown",
   "metadata": {},
   "source": [
    "软间隔允许部分样本不满足如下约束：\n",
    "\n",
    "$$ y_i(\\mathbf{w}^T \\mathbf{x}_i + b)\\geq 1$$"
   ]
  },
  {
   "cell_type": "markdown",
   "metadata": {},
   "source": [
    "我们的优化目标变成：“最大化间隔的同时，不满足约束的样本应该尽可能少”。对应的优化目标为：\n",
    "$$\n",
    "\\min_{(w, b)} \\frac{|| \\mathbf{w} ||^2}{2} + C\\sum_{i=1}^m \\ell_{0/1}\\left(y_i(\\mathbf{w}^T \\mathbf{x}_i + b)-1\\right)\n",
    " \\tag{soft svm}$$"
   ]
  },
  {
   "cell_type": "markdown",
   "metadata": {},
   "source": [
    "其中 C>0 是一个常数， $\\ell_{0/1}$ 是“0/1损失函数”：\n",
    "$$ \\ell_{0/1}(z)=\n",
    "\\left \\{\n",
    "\\begin{aligned}\n",
    "1 & \\quad if \\; z<0;\\\\\n",
    "0 & \\quad if \\; z\\geq 0;. \n",
    "\\end{aligned}\\right.$$"
   ]
  },
  {
   "cell_type": "markdown",
   "metadata": {},
   "source": [
    "显然，C 无穷大时，等价于 (svm model)，C 取有限值时，允许一些样本不满足约束。"
   ]
  },
  {
   "cell_type": "markdown",
   "metadata": {},
   "source": [
    "然而， $\\ell_{0/1}$ 非凸、非连续，不利于 (soft svm) 的求解，我们通常用如下三种“替代损失”来代替：\n",
    "\n",
    "1. hinge损失：$\\ell_{hinge}(z) = \\max(0, 1-z)$;\n",
    "2. 指数损失（exponential loss）: $\\ell_{exp}(z) = \\exp(-z)$;\n",
    "3. 对率损失（logistic loss）: $\\ell_{log}(z) = \\log(1+ \\exp(-z))$"
   ]
  },
  {
   "cell_type": "markdown",
   "metadata": {
    "ExecuteTime": {
     "end_time": "2018-12-18T08:11:59.055000Z",
     "start_time": "2018-12-18T08:11:59.036000Z"
    }
   },
   "source": [
    "<img src=\"https://hacking-linux.com/wp-content/uploads/2018/08/28.png\" width=\"400\" hegiht=\"300\" align=left />"
   ]
  },
  {
   "cell_type": "markdown",
   "metadata": {},
   "source": [
    "下面以hinge损失为替代损失，则 （soft svm）变为：\n",
    "\n",
    "$$\n",
    "\\min_{(w, b)} \\frac{|| \\mathbf{w} ||^2}{2} + C\\sum_{i=1}^m \\max\\left(0, 1-y_i(\\mathbf{w}^T \\mathbf{x}_i + b)\\right)\n",
    " \\tag{hinge loss svm}$$"
   ]
  },
  {
   "cell_type": "markdown",
   "metadata": {},
   "source": [
    "引入松弛变量$\\xi_i \\geq 0$，可将上式重写为：\n",
    "\n",
    "$$\\left\\{\\begin{aligned}\n",
    "\\min_{(w, b, \\xi_i)} \\frac{|| \\mathbf{w} ||^2}{2} + C\\sum_{i=1}^m \\xi_i&\\\\\n",
    "s.t. \\quad y_i(\\mathbf{w}^T \\mathbf{x}_i + b) & \\geq 1 - \\xi_i \\quad i = 1,2,...,m\\\\\n",
    "\\xi_i \\geq 0\n",
    "\\end{aligned}\\right. \\tag{soft margin svm}$$"
   ]
  },
  {
   "cell_type": "markdown",
   "metadata": {},
   "source": [
    "**对于传统的SVM，此处对应的“硬间隔”是 1，对应此处的“软间隔”为 $1 - \\xi_i$，相当于间隔带向靠近分类器的方向移动了$\\xi_i$个单位。C 表示对违反间距规则的样本的“惩罚”，C选择一个很大的值时，目标函数对违反间距规则的点的“惩罚”是很大的，反之，违反点的“付出代价”不是很大。**"
   ]
  },
  {
   "cell_type": "markdown",
   "metadata": {},
   "source": [
    "对应的拉格朗日对偶问题以及KKT条件如下：\n",
    "\n",
    "$$ L(\\mathbf{w}, b, \\alpha, \\mathbf{\\xi}, \\mathbf{\\mu}) = \\frac{|| \\mathbf{w} ||^2}{2} + \\sum_{i=1}^m \\alpha_i\\left(1- \\xi -y_i(\\mathbf{w}^T \\mathbf{x}_i + b)\\right) - \\sum_{i=1}^m \\mu_i\\xi_i$$"
   ]
  },
  {
   "cell_type": "markdown",
   "metadata": {},
   "source": [
    "$$\\max_{\\mathbf{\\alpha}} \\left(\\sum_{i=1}^m\\alpha_i - \\frac{1}{2} \\sum_{i=1}^{m}\\sum_{j=1}^{m}\\alpha_i\\alpha_j y_{i} y_{j}\\mathbf{x}^T_i\\mathbf{x}_j\\right)$$\n",
    "s.t.\n",
    "$$\\left\\{\\begin{aligned}\n",
    "\\sum_{i=1}^{m} \\alpha_i y_i= 0\\\\\n",
    "1- y_i(\\mathbf{w}^T \\mathbf{x}_i + b) - \\xi_i\\leq  0  \\\\\n",
    "0\\leq \\alpha_i \\leq C \\\\\n",
    "\\alpha_i (1- y_i(\\mathbf{w}^T \\mathbf{x}_i + b) - \\xi_i) = 0 \\\\\n",
    "\\xi_i \\geq 0 ,\\; \\mu_i \\geq 0,\\; \\mu_i\\xi_i = 0\n",
    "\\end{aligned}\\right. \\tag{hinge soft KKT}$$"
   ]
  },
  {
   "cell_type": "markdown",
   "metadata": {},
   "source": [
    "(hinge soft KKT) 和 (KKT) 对比，唯一的差别是对偶变量的约束不同，前者是$0\\leq \\alpha_i \\leq C$，后者只是 $0\\leq \\alpha_i$。\n",
    "我们同样可以采用SMO算法来求解、核函数来进行扩展。\n",
    "\n",
    "由(hinge soft KKT)可知，最终模型仍旧只和支持向量有关，通过采用hinge损失函数保持稀疏性。"
   ]
  },
  {
   "cell_type": "markdown",
   "metadata": {},
   "source": [
    "除了hinge损失，我们可以采用指数损失和对率损失来进行求解。采用对率损失的时候，几乎就得到了对率回归模型。两者的对比在于：\n",
    "* 对率回归的优势在于输出有自然概率意义的label,SVM输出不具有，当然可以通过特殊处理可以得到；\n",
    "* 对率回归可以直接用于多分类任务，SVM需要进行推广；\n",
    "* SVM的计算开销主要集中在“支持向量”，具有稀疏性，对率回归不具有这个概念。"
   ]
  },
  {
   "cell_type": "markdown",
   "metadata": {},
   "source": [
    "更一般地，有如下学习模型：\n",
    "\n",
    "$$\\min_f \\Omega(f) + C\\sum_{i=1}^{m} \\ell\\left(f(\\mathbf{x}_i), y_i\\right)$$"
   ]
  },
  {
   "cell_type": "markdown",
   "metadata": {},
   "source": [
    "其中$\\Omega(f)$称为“结构风险”，用于描述 f 的一些性质；第二项称为“经验风险”，用于描述模型与训练数据的契合程度；C用于对两者折中。\n",
    "\n",
    "从**经验风险最小化（可以理解为模型和训练数据的误差）**角度看：\n",
    "1. $\\Omega(f)$ 描述我们希望获得具有何种性质的模型，为引入领域知识（比如不同领域减少特征的方式不同）和用途意图提供途径；\n",
    "2. $\\Omega(f)$ 有助于削减空间（作为约束），降低最小化训练误差的过拟合风险。\n",
    "\n",
    "所以也称上式为“正则化”问题， $\\Omega(f)$称为正则化项，$L_p$常用于正则化项，其中$L_2$ 倾向于$\\mathbf{w}$分量取值均衡化，即非零分量个数稠密，$L_0$和$L_1$倾向于$\\mathbf{w}$分量足够稀疏，即非零分量个数尽量少。"
   ]
  },
  {
   "cell_type": "markdown",
   "metadata": {},
   "source": [
    "## [sklearn.svm.SVC](https://scikit-learn.org/stable/modules/generated/sklearn.svm.SVC.html)\n",
    "1. [参数解释参考](https://blog.csdn.net/szlcw1/article/details/52336824)\n",
    "2. The fit time complexity is more than quadratic with the number of samples which makes it hard to scale to dataset with more than a couple of 10000 samples\n",
    "3. [LibSVM](https://www.csie.ntu.edu.tw/~cjlin/papers/libsvm.pdf)"
   ]
  },
  {
   "cell_type": "markdown",
   "metadata": {},
   "source": [
    "## [sklearn.svm.LinearSVC](https://scikit-learn.org/stable/modules/generated/sklearn.svm.LinearSVC.html#sklearn.svm.LinearSVC)\n",
    "1. [参数解释参考](https://blog.csdn.net/ustbclearwang/article/details/81236732)\n",
    "2. it has more flexibility in the choice of penalties and loss functions and should scale better to large numbers of samples"
   ]
  },
  {
   "cell_type": "markdown",
   "metadata": {},
   "source": [
    "## 乳腺癌检测"
   ]
  },
  {
   "cell_type": "code",
   "execution_count": 1,
   "metadata": {
    "ExecuteTime": {
     "end_time": "2018-12-21T13:28:20.908000Z",
     "start_time": "2018-12-21T13:28:20.277000Z"
    }
   },
   "outputs": [],
   "source": [
    "%matplotlib inline\n",
    "import matplotlib.pyplot as plt\n",
    "import numpy as np"
   ]
  },
  {
   "cell_type": "code",
   "execution_count": 2,
   "metadata": {
    "ExecuteTime": {
     "end_time": "2018-12-21T13:28:23.590000Z",
     "start_time": "2018-12-21T13:28:22.036000Z"
    }
   },
   "outputs": [
    {
     "name": "stdout",
     "output_type": "stream",
     "text": [
      "data shape: (569, 30); no. positive: 357; no. negative: 212\n"
     ]
    }
   ],
   "source": [
    "# 载入数据\n",
    "from sklearn.datasets import load_breast_cancer\n",
    "\n",
    "cancer = load_breast_cancer()\n",
    "X = cancer.data\n",
    "y = cancer.target\n",
    "print('data shape: {0}; no. positive: {1}; no. negative: {2}'.format(\n",
    "    X.shape, y[y==1].shape[0], y[y==0].shape[0]))"
   ]
  },
  {
   "cell_type": "markdown",
   "metadata": {},
   "source": [
    "可以看出我们的数据集很小，如果采用高斯核函数会过于复杂，容易过拟合，模型效果不会很好，我们验证下我们的猜测："
   ]
  },
  {
   "cell_type": "code",
   "execution_count": 3,
   "metadata": {
    "ExecuteTime": {
     "end_time": "2018-12-21T13:28:25.188000Z",
     "start_time": "2018-12-21T13:28:25.104000Z"
    }
   },
   "outputs": [],
   "source": [
    "from sklearn.model_selection import train_test_split\n",
    "\n",
    "X_train, X_test, y_train, y_test = train_test_split(X, y, test_size=0.2)"
   ]
  },
  {
   "cell_type": "code",
   "execution_count": 7,
   "metadata": {
    "ExecuteTime": {
     "end_time": "2018-12-21T11:32:27.703000Z",
     "start_time": "2018-12-21T11:32:27.563000Z"
    }
   },
   "outputs": [
    {
     "name": "stdout",
     "output_type": "stream",
     "text": [
      "train_score: 1.0;test_score:0.7\n",
      "train_score: 0.98;test_score:0.92\n",
      "train_score: 0.95;test_score:0.94\n"
     ]
    }
   ],
   "source": [
    "from sklearn.svm import SVC\n",
    "for gamma in [0.1, 0.001, 0.0001]:\n",
    "    clf = SVC(C=1.0, kernel='rbf', gamma=gamma)\n",
    "\n",
    "    clf.fit(X_train,y_train)\n",
    "    train_score = clf.score(X_train,y_train)\n",
    "    test_score = clf.score(X_test,y_test)\n",
    "    print('train_score: {0};test_score:{1}'.format(round(train_score,2), round(test_score,2)))"
   ]
  },
  {
   "cell_type": "markdown",
   "metadata": {},
   "source": [
    "train_score 接近满分，test_score 评分低，典型的过拟合现象。随着gamma的减小，过拟合现象减轻，但整体评分都下降，欠拟合了。我们可以通过 GridSearchCV 来看最好的模型交叉验证得分是多少。 "
   ]
  },
  {
   "cell_type": "code",
   "execution_count": 12,
   "metadata": {
    "ExecuteTime": {
     "end_time": "2018-12-21T11:49:01.957000Z",
     "start_time": "2018-12-21T11:48:57.107000Z"
    }
   },
   "outputs": [
    {
     "name": "stdout",
     "output_type": "stream",
     "text": [
      "best param:{'gamma': 0.00010344827586206896}; best_cv_score:0.934979040521658\n"
     ]
    }
   ],
   "source": [
    "from common.utils import plot_param_curve\n",
    "from sklearn.model_selection import GridSearchCV\n",
    "\n",
    "gammas = np.linspace(0, 0.003, 30)\n",
    "param_grid = {'gamma': gammas}\n",
    "clf = GridSearchCV(SVC(), param_grid, cv=5)\n",
    "clf.fit(X,y)\n",
    "\n",
    "print('best param:{0}; best_cv_score:{1}'.format(clf.best_params_, clf.best_score_))\n",
    "# print(clf.cv_results_)\n",
    "# plt.figure(figsize=(10, 4), dpi=144)\n",
    "# plot_param_curve(plt, gammas, clf.cv_results_, xlabel='gamma')"
   ]
  },
  {
   "cell_type": "markdown",
   "metadata": {},
   "source": [
    "即使最好的gamma参数下，平均最优得分也只是 0.93。我们选择在gamma为0.01时，画出学习曲线，更直观观察拟合情况。"
   ]
  },
  {
   "cell_type": "code",
   "execution_count": 21,
   "metadata": {
    "ExecuteTime": {
     "end_time": "2018-12-21T11:50:54.441000Z",
     "start_time": "2018-12-21T11:50:53.257000Z"
    }
   },
   "outputs": [
    {
     "name": "stdout",
     "output_type": "stream",
     "text": [
      "elaspe: 0.953430\n"
     ]
    },
    {
     "data": {
      "image/png": "[encoded data removed]",
      "text/plain": [
       "<matplotlib.figure.Figure at 0x1a042f98>"
      ]
     },
     "metadata": {
      "needs_background": "light"
     },
     "output_type": "display_data"
    }
   ],
   "source": [
    "import time\n",
    "from common.utils import plot_learning_curve\n",
    "from sklearn.model_selection import ShuffleSplit\n",
    "\n",
    "cv = ShuffleSplit(n_splits=10, test_size=0.2, random_state=0)\n",
    "title = 'Learning Curves for Gaussian Kernel'\n",
    "\n",
    "start = time.clock()\n",
    "plt.figure(figsize=(10, 4), dpi=144)\n",
    "plot_learning_curve(plt, SVC(C=1.0, kernel='rbf', gamma=0.01),\n",
    "                    title, X, y, ylim=(0.5, 1.01), cv=cv)\n",
    "\n",
    "print('elaspe: {0:.6f}'.format(time.clock()-start))"
   ]
  },
  {
   "cell_type": "markdown",
   "metadata": {},
   "source": [
    "两个得分之间间隙非常大，且train_score 接近满分，是明显的过拟合现象。我们换个模型，采用二阶多项式核函数来拟合模型，来看看如何。"
   ]
  },
  {
   "cell_type": "code",
   "execution_count": 13,
   "metadata": {
    "ExecuteTime": {
     "end_time": "2018-12-21T11:57:54.009000Z",
     "start_time": "2018-12-21T11:56:11.753000Z"
    }
   },
   "outputs": [
    {
     "name": "stdout",
     "output_type": "stream",
     "text": [
      "train_score: 0.978021978021978;test_score:0.9210526315789473\n"
     ]
    }
   ],
   "source": [
    "clf = SVC(C=1.0, kernel='poly', gamma=1, degree=2)\n",
    "\n",
    "clf.fit(X_train,y_train)\n",
    "train_score = clf.score(X_train,y_train)\n",
    "test_score = clf.score(X_test,y_test)\n",
    "print('train_score: {0};test_score:{1}'.format(train_score, test_score))"
   ]
  },
  {
   "cell_type": "markdown",
   "metadata": {},
   "source": [
    "结果看起来好多了，但运算时间较长。作为对比，我们画出一阶、二阶、三阶多项式的学习曲线，观察模型的拟合情况。"
   ]
  },
  {
   "cell_type": "code",
   "execution_count": 14,
   "metadata": {
    "ExecuteTime": {
     "end_time": "2018-12-21T13:33:15.252000Z",
     "start_time": "2018-12-21T13:28:38.467000Z"
    }
   },
   "outputs": [
    {
     "name": "stdout",
     "output_type": "stream",
     "text": [
      "elaspe: 1.018891\n"
     ]
    },
    {
     "data": {
      "image/png": "[encoded data removed]",
      "text/plain": [
       "<Figure size 1728x576 with 2 Axes>"
      ]
     },
     "metadata": {
      "needs_background": "light"
     },
     "output_type": "display_data"
    }
   ],
   "source": [
    "import time\n",
    "from common.utils import plot_learning_curve\n",
    "from sklearn.model_selection import ShuffleSplit\n",
    "from sklearn.svm import SVC\n",
    "\n",
    "cv = ShuffleSplit(n_splits=5, test_size=0.2, random_state=0)\n",
    "title = 'Learning Curves with degree={0}'\n",
    "degrees = [1, 2]\n",
    "\n",
    "start = time.perf_counter()\n",
    "plt.figure(figsize=(12, 4), dpi=144)\n",
    "for i in range(len(degrees)):\n",
    "    plt.subplot(1, len(degrees), i + 1)\n",
    "    plot_learning_curve(plt, SVC(C=1.0, kernel='poly', degree=degrees[i]),\n",
    "                        title.format(degrees[i]), X, y, ylim=(0.8, 1.01), cv=cv, n_jobs=4)\n",
    "\n",
    "print('elaspe: {0:.6f}'.format(time.perf_counter()-start))"
   ]
  },
  {
   "cell_type": "markdown",
   "metadata": {},
   "source": [
    "从图中可以看出，二项式的拟合效果更好。在LR章节，我们用逻辑回归来处理时，用二项多项式来增加特征，同时采用L1范数作为正则项，拟合效果比这里的SVC更好，更重要的是，L1的运算效率远远高于二阶多项式的SVC。由此可见，**模型选择和参数调优，在工程实践中有着非常重要的作用。**"
   ]
  },
  {
   "cell_type": "markdown",
   "metadata": {},
   "source": [
    "下面我们试试试着用LinerSVC来解决这个问题，指定penalty 为L1范数作为正则项来构造SVM，并使用PolynomialFeatures引入二阶多项式特征。\n",
    "\n",
    "**注：使用二阶多项式核函数和引入二阶多项式特征完全是两回事。**"
   ]
  },
  {
   "cell_type": "code",
   "execution_count": 15,
   "metadata": {
    "ExecuteTime": {
     "end_time": "2018-12-21T17:50:38.791000Z",
     "start_time": "2018-12-21T17:50:38.014000Z"
    }
   },
   "outputs": [
    {
     "name": "stdout",
     "output_type": "stream",
     "text": [
      "elaspe: 0.382065; train_score: 1.000000; cv_score: 0.964912\n"
     ]
    },
    {
     "name": "stderr",
     "output_type": "stream",
     "text": [
      "C:\\Program Files\\Python310\\lib\\site-packages\\sklearn\\svm\\_base.py:1206: ConvergenceWarning: Liblinear failed to converge, increase the number of iterations.\n",
      "  warnings.warn(\n"
     ]
    }
   ],
   "source": [
    "import time\n",
    "from sklearn.svm import LinearSVC\n",
    "from sklearn.preprocessing import PolynomialFeatures\n",
    "from sklearn.pipeline import Pipeline\n",
    "\n",
    "# 增加多项式预处理\n",
    "def polynomial_model(degree=1, **kwarg):\n",
    "    polynomial_features = PolynomialFeatures(degree=degree,\n",
    "                                             include_bias=False)\n",
    "    linear_svc = LinearSVC(**kwarg)\n",
    "    pipeline = Pipeline([(\"polynomial_features\", polynomial_features), (\"linear_svc\", linear_svc)])\n",
    "    return pipeline\n",
    "\n",
    "# 用二阶多项式增加特征，L1范数作为正则惩罚项\n",
    "# 注: loss 是 'hinge' 的时候， penalty 为 'l1'、'l2'都会报错。原因未知。？？？\n",
    "model = polynomial_model(degree=2, penalty='l1', loss='squared_hinge', dual=False)\n",
    "\n",
    "start = time.perf_counter()\n",
    "model.fit(X_train, y_train)\n",
    "\n",
    "train_score = model.score(X_train, y_train)\n",
    "cv_score = model.score(X_test, y_test)\n",
    "print('elaspe: {0:.6f}; train_score: {1:0.6f}; cv_score: {2:.6f}'.format(\n",
    "    time.perf_counter()-start, train_score, cv_score))"
   ]
  },
  {
   "cell_type": "markdown",
   "metadata": {},
   "source": [
    "当采用 LinearSVC 且penalty = 'l1' 、loss = 'squared_hinge'、 采用二阶多项式特征的时候，效果和LR 采用 l1 为惩罚项、加二阶多项式特征效果差不多。"
   ]
  },
  {
   "cell_type": "markdown",
   "metadata": {},
   "source": [
    "# 支持向量回归SVR（support vector regression）"
   ]
  },
  {
   "cell_type": "markdown",
   "metadata": {},
   "source": [
    "## SVM 的延伸"
   ]
  },
  {
   "cell_type": "markdown",
   "metadata": {},
   "source": [
    "传统回归模型输出 $f(\\mathbf{x})$ 和 y 之间的误差来计算损失，当且仅当两者完全相同时，误差才为0。SVR 和传统回归模型不同的是，**SVR 假设我们能容忍 $f(\\mathbf{x})$ 和 y 之间最多能有 $\\epsilon$ 的误差**。即损失函数为hinge损失：\n",
    "\n",
    "$$\\ell_{\\epsilon}(z) = max(0, |z|-\\epsilon)$$"
   ]
  },
  {
   "cell_type": "markdown",
   "metadata": {},
   "source": [
    "**这相当于以 $f(\\mathbf{x})$ 为中心，构造了一个宽度为 $\\epsilon$ 的间隔带，落入带内($0\\leq|z|\\leq\\epsilon$)的训练样本被认为是预测正确的。**"
   ]
  },
  {
   "cell_type": "markdown",
   "metadata": {},
   "source": [
    "<img src=\"figure/SVR.png\" width=\"400\" hegiht=\"300\" align=left />"
   ]
  },
  {
   "cell_type": "markdown",
   "metadata": {},
   "source": [
    "于是, SVR 的问题可以视为：\n",
    "\n",
    "$$\\min_{\\mathbf{w}, b} \\left(  \\frac{||\\mathbf{w}||}{2} + C\\sum_{i=1}^m\\ell_{\\epsilon}(|f(\\mathbf{x}_i) - y_i|)\\right)$$"
   ]
  },
  {
   "cell_type": "markdown",
   "metadata": {},
   "source": [
    "对不属于间隔带内上侧和下侧的点引入松弛变量 $\\xi_i,\\hat{\\xi}_i$，显然有 $\\xi_i\\hat{\\xi}_i=0$，上式可重写为：\n",
    "\n",
    "$$\\min_{\\mathbf{w}, b, \\xi_i,\\hat{\\xi}_i} \\left( \\frac{||\\mathbf{w}||}{2} + C\\sum_{i=1}^m(\\xi_i + \\hat{\\xi}_i))\\right)$$\n",
    "\n",
    "$$\\begin{split}s.t. \\;& \\left(f(\\mathbf{x}_i) - y_i \\right) \\leq \\epsilon + \\xi_i\\\\\n",
    "& \\left( y_i - f(\\mathbf{x}_i) \\right) \\leq \\epsilon + \\hat{\\xi}_i\\\\\n",
    "& \\xi_i \\geq 0, \\; \\hat{\\xi}_i \\geq 0, \\; \\xi_i\\hat{\\xi}_i=0\n",
    "\\end{split}$$"
   ]
  },
  {
   "cell_type": "markdown",
   "metadata": {},
   "source": [
    "**引入松弛变量后，间隔带的间隔分别变成了$\\epsilon + \\xi_i$ 和 $\\epsilon + \\hat{\\xi}_i$。**"
   ]
  },
  {
   "cell_type": "markdown",
   "metadata": {},
   "source": [
    "对应的拉格朗日对偶问题以及KKT条件如下：\n",
    "\n",
    "$$\\begin{split}\n",
    "& L(\\mathbf{w}, b, \\alpha, \\hat{\\alpha}, \\mathbf{\\xi}, \\hat{\\mathbf{\\xi}}, \\mathbf{\\mu}, \\hat{\\mathbf{\\mu}}) \\\\ \n",
    "& =\\frac{|| \\mathbf{w} ||^2}{2} + C\\sum_{i=1}^m(\\xi_i + \\hat{\\xi}_i) - \\sum_{i=1}^m \\mu_i\\xi_i - \\sum_{i=1}^m \\hat{\\mu}_i\\hat{\\xi}_i \\\\ \n",
    "& +\\sum_{i=1}^m \\alpha_i\\left((\\mathbf{w}^T \\mathbf{x}_i + b)- y_i - \\xi_i -{\\epsilon}\\right) +\n",
    "\\sum_{i=1}^m \\hat{\\alpha}_i\\left(y_i - (\\mathbf{w}^T \\mathbf{x}_i + b) - \\hat{\\xi}_i -{\\epsilon}\\right).\n",
    "\\end{split}$$"
   ]
  },
  {
   "cell_type": "markdown",
   "metadata": {},
   "source": [
    "其中的拉格朗日乘子都非负。"
   ]
  },
  {
   "cell_type": "markdown",
   "metadata": {},
   "source": [
    "$$ \\begin{split}\n",
    "\\max_{\\mathbf{\\alpha}, \\hat{\\mathbf{\\alpha}}} \n",
    "\\left( \\sum_{i=1}^m y_i(\\hat{\\alpha}_i - \\alpha_i) - \\epsilon(\\hat{\\alpha}_i + \\alpha_i)  - \n",
    "\\frac{1}{2} \\sum_{i=1}^{m}\\sum_{j=1}^{m} (\\hat{\\alpha}_i - \\alpha_i)(\\hat{\\alpha}_j - \\alpha_j) \\mathbf{x}^T_i\\mathbf{x}_j\\right)\n",
    "\\end{split}$$"
   ]
  },
  {
   "cell_type": "markdown",
   "metadata": {},
   "source": [
    "s.t.\n",
    "$$\\left\\{\\begin{aligned}\n",
    "\\mathbf{w} = \\sum_{i=1}^m (\\hat{\\alpha}_i - \\alpha_i)\\mathbf{x}_i ,\\; 0 = \\sum_{i=1}^m (\\hat{\\alpha}_i - \\alpha_i), \n",
    "C = \\alpha_i + \\mu_i,\\; C = \\hat{\\alpha}_i + \\hat{\\mu}_i,\\\\\n",
    "\\left(f(\\mathbf{x}_i) - y_i \\right) - \\xi_i-\\epsilon  \\leq 0,\\;\\left( y_i - f(\\mathbf{x}_i) \\right) - \\hat{\\xi}_i - \\epsilon \\leq 0,\\\\\n",
    "-\\xi_i \\leq 0, \\; -\\hat{\\xi}_i \\leq 0,\\\\\n",
    "\\alpha_i \\geq 0, \\; \\hat{\\alpha}_i \\geq 0, \\mu_i \\geq 0, \\; \\hat{\\mu}_i \\geq 0,\\\\\n",
    "\\sum_{i=1}^{m} \\alpha_i (\\left(f(\\mathbf{x}_i) - y_i \\right) - \\xi_i-\\epsilon) =0\\\\\n",
    "\\sum_{i=1}^{m} \\alpha_i (\\left( y_i - f(\\mathbf{x}_i) \\right) - \\hat{\\xi}_i - \\epsilon)= 0\\\\\n",
    "\\mu_i\\xi_i = 0, \\; \\hat{\\mu}_i\\hat{\\xi}_i = 0,\\\\\n",
    "\\xi_i\\hat{\\xi}_i=0,\\; \\alpha_i\\hat{\\alpha}_i=0\n",
    "\\end{aligned}\\right. \\tag{hinge loss SVR KKT}$$"
   ]
  },
  {
   "cell_type": "markdown",
   "metadata": {},
   "source": [
    "通过求解相关系数(通过SMO 以及 KKT条件)，可以得到我们的SVR模型：\n",
    "\n",
    "$$f(\\mathbf{x}) = \\sum_{i=1}^m (\\hat{\\alpha}_i - \\alpha_i)\\mathbf{x}^T_i\\mathbf{x} + b$$"
   ]
  },
  {
   "cell_type": "markdown",
   "metadata": {},
   "source": [
    "## [sklearn.svm.SVR](https://scikit-learn.org/stable/modules/generated/sklearn.svm.SVR.html)"
   ]
  }
 ],
 "metadata": {
  "hide_input": false,
  "kernelspec": {
   "display_name": "Python 3 (ipykernel)",
   "language": "python",
   "name": "python3"
  },
  "language_info": {
   "codemirror_mode": {
    "name": "ipython",
    "version": 3
   },
   "file_extension": ".py",
   "mimetype": "text/x-python",
   "name": "python",
   "nbconvert_exporter": "python",
   "pygments_lexer": "ipython3",
   "version": "3.10.1"
  },
  "latex_envs": {
   "LaTeX_envs_menu_present": true,
   "autoclose": false,
   "autocomplete": true,
   "bibliofile": "biblio.bib",
   "cite_by": "apalike",
   "current_citInitial": 1,
   "eqLabelWithNumbers": true,
   "eqNumInitial": 1,
   "hotkeys": {
    "equation": "Ctrl-E",
    "itemize": "Ctrl-I"
   },
   "labels_anchors": false,
   "latex_user_defs": false,
   "report_style_numbering": false,
   "user_envs_cfg": false
  },
  "toc": {
   "base_numbering": 1,
   "nav_menu": {},
   "number_sections": true,
   "sideBar": true,
   "skip_h1_title": false,
   "title_cell": "Table of Contents",
   "title_sidebar": "Contents",
   "toc_cell": false,
   "toc_position": {
    "height": "473px",
    "left": "1207px",
    "top": "134px",
    "width": "240px"
   },
   "toc_section_display": true,
   "toc_window_display": true
  },
  "varInspector": {
   "cols": {
    "lenName": 16,
    "lenType": 16,
    "lenVar": 40
   },
   "kernels_config": {
    "python": {
     "delete_cmd_postfix": "",
     "delete_cmd_prefix": "del ",
     "library": "var_list.py",
     "varRefreshCmd": "print(var_dic_list())"
    },
    "r": {
     "delete_cmd_postfix": ") ",
     "delete_cmd_prefix": "rm(",
     "library": "var_list.r",
     "varRefreshCmd": "cat(var_dic_list()) "
    }
   },
   "types_to_exclude": [
    "module",
    "function",
    "builtin_function_or_method",
    "instance",
    "_Feature"
   ],
   "window_display": false
  }
 },
 "nbformat": 4,
 "nbformat_minor": 2
}
