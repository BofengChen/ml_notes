{
 "cells": [
  {
   "cell_type": "markdown",
   "metadata": {},
   "source": [
    "# Boosting族算法"
   ]
  },
  {
   "cell_type": "markdown",
   "metadata": {},
   "source": [
    "Boosting 是一族将弱学习器提升为强学习器的算法。这族算法的工作机制类似：\n",
    "1. 先从初始训练集 $D_1$ 训练出一个基学习器 $h_1$;\n",
    "2. 再根据基学习器 $h_1$ 的表现对训练样本分布进行调整（方式可以为对样本进行加权或者重采样），得到调整后的样本分布 $D_2$;\n",
    "3. 基于 $D_2$ 重新来训练下一个基学习器 $h_2$；\n",
    "4. 重复步骤1-3 直到基学习器数目达到事先指定的T，最终将这T个基学习器进行加权结合。\n",
    "\n",
    "Boosting族算法中最著名的代表就是 **AdaBoost(Adaptive Boosting的缩写) 和 梯度提升(Gradient Boosting)。**"
   ]
  },
  {
   "cell_type": "markdown",
   "metadata": {},
   "source": [
    "## AdaBoost"
   ]
  },
  {
   "cell_type": "markdown",
   "metadata": {},
   "source": [
    "###  AdaBoost 的理论推导"
   ]
  },
  {
   "cell_type": "markdown",
   "metadata": {
    "ExecuteTime": {
     "end_time": "2019-01-03T01:54:29.384000Z",
     "start_time": "2019-01-03T01:54:29.359000Z"
    }
   },
   "source": [
    "给定已标记数据集 $D = \\{ (\\mathbf{x}_1, y_1), (\\mathbf{x}_2, y_2), ... , (\\mathbf{x}_n, y_n)\\},$ 其中 $ \\mathbf{x}_i = (x_{i1}, x_{i2}, ...,x_{id}), y_i\\in \\{-1, +1\\}$,假设 f 是真实函数。我们的模型为：\n",
    "\n",
    "$$ H(\\mathbf{x}) = \\sum_{t=1}^{T}\\alpha_t h_t (\\mathbf{x})$$"
   ]
  },
  {
   "cell_type": "markdown",
   "metadata": {},
   "source": [
    "我们将最小化指数损失函数作为我们的优化目标：\n",
    "\n",
    "$$\\ell_{exp}(H|D) = \\mathbf{E}_{\\mathbf{x}\\backsim D}[e^{-f(\\mathbf{x})H(\\mathbf{x})}]$$"
   ]
  },
  {
   "cell_type": "markdown",
   "metadata": {},
   "source": [
    "下面我们首先来说明**为什么我们选择指数损失函数来作为0/1损失函数的替代函数。**\n",
    "\n",
    "若 $H(\\mathbf{x})$ 能令指数损失函数最小化，我们考虑上式对 $H(\\mathbf{x})$ 求偏导。"
   ]
  },
  {
   "cell_type": "markdown",
   "metadata": {},
   "source": [
    "假设 $g(f(\\mathbf{x})) = e^{-f(\\mathbf{x})H(\\mathbf{x})}$，则有\n",
    "\n",
    "$$\\mathbf{E}[g(\\mathbf{x})] = \\sum_{x \\backsim D}g(\\mathbf{x})P_{\\mathbf{X}}(\\mathbf{x})$$\n",
    "\n",
    "所以\n",
    "\n",
    "$$\\ell_{exp}(H|D) = \\mathbf{E}(g(f(\\mathbf{x}))) =  \\sum_{y_i \\backsim \\{-1, +1\\}} g(f(\\mathbf{x}))P(f(\\mathbf{x}) = y_i)$$\n",
    "\n",
    "对 H 求偏导，有\n",
    "\n",
    "$$\\begin{split}\n",
    "\\frac{\\partial \\ell_{exp}(H|D)}{\\partial H(\\mathbf{x})} &= \\sum_{y_i \\backsim \\{-1, +1\\}} \\frac{\\partial g(f(\\mathbf{x}))}{\\partial H(\\mathbf{x})}P(f(\\mathbf{x}) = y_i)\\\\\n",
    "&=\\sum_{y_i \\backsim \\{-1, +1\\}} -f(\\mathbf{x})  e^{-f(\\mathbf{x})H(\\mathbf{x})} P(f(\\mathbf{x}) = y_i)\\\\\n",
    "&= -  e^{-H(\\mathbf{x})} P(f(\\mathbf{x}) = 1) + e^{H(\\mathbf{x})} P(f(\\mathbf{x}) = -1)\n",
    "\\end{split}$$"
   ]
  },
  {
   "cell_type": "markdown",
   "metadata": {},
   "source": [
    "令上式为0，可得\n",
    "\n",
    "$$ H(\\mathbf{x})  = \\frac{1}{2}\\ln \\frac{P(f(\\mathbf{x}) = 1)}{P(f(\\mathbf{x}) = -1)} $$\n",
    "\n",
    "因此有\n",
    "\n",
    "$$\\begin{split}\n",
    "sign (H(\\mathbf{x})) &= sign\\left(\\frac{1}{2}\\ln \\frac{P(f(\\mathbf{x}) = 1)}{P(f(\\mathbf{x}) = -1)}\\right)\\\\\n",
    "&=\\arg\\max_{y\\in\\{-1, +1\\}}P(f(\\mathbf{x}) = y)\n",
    "\\end{split}$$"
   ]
  },
  {
   "cell_type": "markdown",
   "metadata": {},
   "source": [
    "这意味着 $sign(H(\\mathbf{x}))$ 达到了贝叶斯最优错误率。换句话说，<span class=\"girk\">指数损失函数最小化，则分类错误率也将最小化</span>，<span class=\"girk\">说明指数损失函数是分类任</span><span class=\"girk\">务原本0/1损失函数的一致的替代损失函数</span>。另外，这个替代函数有更好的数学性质，所以用它来作为替代损失函数。"
   ]
  },
  {
   "cell_type": "markdown",
   "metadata": {},
   "source": [
    "在 AdaBoost 算法中，每次迭代中需要求解的更新包括了系数$\\alpha_t$ 以及分布$D_t$ 的更新，即训练集里每个样本的权重的更新。下面我们就来推导两者的更新公式。"
   ]
  },
  {
   "cell_type": "markdown",
   "metadata": {},
   "source": [
    "**STEP1 $\\alpha_t$的更新**"
   ]
  },
  {
   "cell_type": "markdown",
   "metadata": {},
   "source": [
    "第一个基分类器 $h_1$ 是通过直接将基学习算法应用于初始数据分布而得（对应的每个样本的权重一致）；此后迭代生成 $h_t$、$\\alpha_t$，当基分类器 $h_t$ 应用于分布 $D_t$ 产生后，该基分类器的权重 $\\alpha_t$ 应使得 $\\alpha_t h_t$ 最小化指数函数损失："
   ]
  },
  {
   "cell_type": "markdown",
   "metadata": {},
   "source": [
    "$$\\begin{split}\n",
    "\\ell_{exp}(\\alpha_t h_t|D_t) &= \\mathbf{E}_{\\mathbf{x}\\backsim D_t}\\left[e^{-f(\\mathbf{x})\\alpha_t h_t(\\mathbf{x})}\\right]\\\\\n",
    "&= \\mathbf{E}_{\\mathbf{x}\\backsim D_t}\\left[e^{-\\alpha_t}(f(\\mathbf{x})= h_t(\\mathbf{x}))^{bool} + e^{\\alpha_t}(f(\\mathbf{x})\\neq h(\\mathbf{x}))^{bool} \\right]\\\\\n",
    "&= e^{-\\alpha_t}P_{\\mathbf{x}\\backsim D_t}(f(\\mathbf{x})= h_t(\\mathbf{x})) + e^{\\alpha_t}P_{\\mathbf{x}\\backsim D_t}(f(\\mathbf{x})\\neq h_t(\\mathbf{x}))\\\\\n",
    "&=e^{-\\alpha_t}(1-\\epsilon_t) + e^{\\alpha_t}\\epsilon_t\n",
    "\\end{split}$$\n",
    "\n",
    "其中 $\\epsilon_t = P_{\\mathbf{x}\\backsim D_t}(f(\\mathbf{x})\\neq h_t(\\mathbf{x})),\\; (\\bullet)^{bool}$ 表示指示函数，为真时取值为1，为假时取值为0。"
   ]
  },
  {
   "cell_type": "markdown",
   "metadata": {},
   "source": [
    "假设 在第 t 轮训练中，训练样本 $\\mathbf{x}_i^t \\in D_t$ 对应的权重为$w_i^t$，则基学习器 $ h_t(\\mathbf{x})$ 对应的误差 $\\epsilon_t$为\n",
    "\n",
    "$$\\epsilon_t = \\frac{\\sum_{ h_t(\\mathbf{x}_i^t)\\neq f(\\mathbf{x}_i^t)}w_i^t}{\\sum_{i=1}^m w_i^t}$$"
   ]
  },
  {
   "cell_type": "markdown",
   "metadata": {},
   "source": [
    "考虑指数损失函数的导数\n",
    "$$\\frac{\\partial\\ell_{exp}(\\alpha_t h_t|D_t)}{\\partial \\alpha_t} = - e^{-\\alpha_t}(1-\\epsilon_t) + e^{\\alpha_t}\\epsilon_t$$\n",
    "\n",
    "为零，可得\n",
    "\n",
    "$$\\alpha_t = \\frac{1}{2}\\ln\\left( \\frac{1-\\epsilon_t}{\\epsilon_t}\\right) \\tag{Alpha}$$"
   ]
  },
  {
   "cell_type": "markdown",
   "metadata": {},
   "source": [
    "<span class=\"girk\">这就是 AdaBoost 算法的系数更新公式</span>。"
   ]
  },
  {
   "cell_type": "markdown",
   "metadata": {},
   "source": [
    "注1：如果记\n",
    "\n",
    "$$\\alpha_t = \\eta \\ln\\left( \\frac{1-\\epsilon_t}{\\epsilon_t}\\right)$$\n",
    "\n",
    "我们称 $\\eta$ 为学习率，按照后面我们的样本权重更新公式，会发现错误样本迭代的关键系数是$\\exp(\\alpha_t)$.\n",
    "\n",
    "$$\\exp(\\alpha_t) = \\exp\\left(\\eta \\ln( \\frac{1-\\epsilon_t}{\\epsilon_t})\\right)\n",
    "=\\left( \\frac{1-\\epsilon_t}{\\epsilon_t}\\right)^\\eta$$\n",
    "\n",
    "我们对这个指数函数进行taylor展开：\n",
    "$$\\exp(\\alpha_t) = \\left( 1 + \\frac{1-\\epsilon_t}{\\epsilon_t} - 1\\right)^\\eta = 1 + \\eta(\\frac{1-\\epsilon_t}{\\epsilon_t} - 1) + o(x)$$"
   ]
  },
  {
   "cell_type": "markdown",
   "metadata": {},
   "source": [
    "一般情况下 $\\eta \\in (0,1]$，从采样上讲相当于对错误样本整体的 $\\eta$ 部分进行了权重的提升。"
   ]
  },
  {
   "cell_type": "markdown",
   "metadata": {},
   "source": [
    "注2： 由 $\\alpha_t$ 的公式可知，**误差率 $\\epsilon_t$ 越小，对应的集成学习中相应基学习器的系数越大，也就说，在AdaBoost中，让准确率更高的基学习器所起的作用越大。**"
   ]
  },
  {
   "cell_type": "markdown",
   "metadata": {},
   "source": [
    "**STEP2 $D_t$的更新**"
   ]
  },
  {
   "cell_type": "markdown",
   "metadata": {},
   "source": [
    "AdaBoost 算法在获得 $H_{T-1}$ 之后样本分布将进行调整，使下一轮的基学习器 $h_t$ 能纠正 $H_{T-1}$ 的一些错误。理想的 $h_t$ 能纠正 $H_{T-1}$ 的全部错误，即最小化\n",
    "\n",
    "$$\\begin{split}\n",
    "\\ell_{exp}(H_{T-1} + h_t|D) &= \\mathbf{E}_{\\mathbf{x}\\backsim D}[exp(-f(\\mathbf{x})\\left(H_{T-1}(\\mathbf{x})+ h_t(\\mathbf{x})\\right))]\\\\\n",
    "&= \\mathbf{E}_{\\mathbf{x}\\backsim D}\\left[\\; exp(-f(\\mathbf{x})H_{T-1}(\\mathbf{x}))\\; exp(-f(\\mathbf{x})h_t(\\mathbf{x}))\\right]\n",
    "\\end{split}$$"
   ]
  },
  {
   "cell_type": "markdown",
   "metadata": {},
   "source": [
    "注意到 $f^2 = h^2 = 1$,上式可以使用 $exp(-fh)$的taylor 展开式近似为：\n",
    "\n",
    "$$\\begin{split}\n",
    "\\ell_{exp}(H_{T-1} + h_t|D) &\\simeq \\mathbf{E}_{\\mathbf{x}\\backsim D}\\left[\\exp(-f(\\mathbf{x})H_{T-1}(\\mathbf{x}))\\; \\left( 1 - f(\\mathbf{x})h_t(\\mathbf{x}) + \\frac{(f(\\mathbf{x})h_t(\\mathbf{x}))^2}{2}\\right)\\right]\\\\\n",
    "&= \\mathbf{E}_{\\mathbf{x}\\backsim D}\\left[\\; exp(-f(\\mathbf{x})H_{T-1}(\\mathbf{x}))\\left( 1 - f(\\mathbf{x})h_t(\\mathbf{x}) + \\frac{1}{2}\\right)\\right]\n",
    "\\end{split}$$"
   ]
  },
  {
   "cell_type": "markdown",
   "metadata": {},
   "source": [
    "于是，理想的基学习器\n",
    "\n",
    "$$\\begin{split}\n",
    "h_t(\\mathbf{x}) &= \\arg\\min_{h}\\ell_{exp}(H_{T-1} + h|D) \\\\\n",
    "&= \\arg\\min_{h} \\mathbf{E}_{\\mathbf{x}\\backsim D} \n",
    "\\left[\n",
    "exp(-f(\\mathbf{x})H_{T-1}(\\mathbf{x}))\n",
    "\\left( 1 - f(\\mathbf{x})h(\\mathbf{x}) + \\frac{1}{2}\\right)\n",
    "\\right] \\\\\n",
    "&= \\arg\\max_{h} \\mathbf{E}_{\\mathbf{x}\\backsim D}\\left[\\; exp(-f(\\mathbf{x})H_{T-1}(\\mathbf{x}))f(\\mathbf{x})h(\\mathbf{x})\\right] \\\\\n",
    "& = \\arg\\max_{h} \\mathbf{E}_{\\mathbf{x}\\backsim D}\n",
    "\\left[\n",
    "\\frac{exp(-f(\\mathbf{x})H_{T-1}(\\mathbf{x}))}{ \\mathbf{E}_{\\mathbf{x}\\backsim D}[exp(-f(\\mathbf{x})H_{T-1}(\\mathbf{x}))]} f(\\mathbf{x})h(\\mathbf{x})\n",
    "\\right] \n",
    "\\end{split}$$"
   ]
  },
  {
   "cell_type": "markdown",
   "metadata": {},
   "source": [
    "注意到 $\\mathbf{E}_{\\mathbf{x}\\backsim D}[exp(-f(\\mathbf{x})H_{T-1}(\\mathbf{x}))]$ 是一个常数，令$D_t$ 表示一个分布：\n",
    "\n",
    "$$D_t(\\mathbf{x}) = \\frac{D(x) exp(-f(\\mathbf{x})H_{T-1}(\\mathbf{x}))}{ \\mathbf{E}_{\\mathbf{x}\\backsim D}[exp(-f(\\mathbf{x})H_{T-1}(\\mathbf{x}))]}$$"
   ]
  },
  {
   "cell_type": "markdown",
   "metadata": {},
   "source": [
    "根据数学期望的定义，等价于求解\n",
    "\n",
    "$$\\begin{split}\n",
    "h_t(\\mathbf{x}) & = \n",
    "\\arg\\max_{h} \\mathbf{E}_{\\mathbf{x}\\backsim D}\n",
    "\\left[\n",
    "\\frac{exp(-f(\\mathbf{x})H_{T-1}(\\mathbf{x}))}{ \\mathbf{E}_{\\mathbf{x}\\backsim D}[exp(-f(\\mathbf{x})H_{T-1}(\\mathbf{x}))]} f(\\mathbf{x})h(\\mathbf{x})\n",
    "\\right] \\\\\n",
    "& = \\arg\\max_{h} \\mathbf{E}_{\\mathbf{x}\\backsim D_t}[f(\\mathbf{x})h(\\mathbf{x})]\n",
    "\\end{split}$$"
   ]
  },
  {
   "cell_type": "markdown",
   "metadata": {},
   "source": [
    "由 $f(\\mathbf{x}), h(\\mathbf{x})\\in\\{-1, +1\\}$，有\n",
    "\n",
    "$$f(\\mathbf{x})h(\\mathbf{x}) = 1 - 2(f(\\mathbf{x})\\neq h(\\mathbf{x}))^{bool}$$\n",
    "\n",
    "则理想的基学习器\n",
    "\n",
    "$$h_t(\\mathbf{x}) = \\arg\\min_{h} \\mathbf{E}_{\\mathbf{x}\\backsim D_t}[\\left(f(\\mathbf{x})\\neq h(\\mathbf{x})\\right)^{bool}]$$"
   ]
  },
  {
   "cell_type": "markdown",
   "metadata": {},
   "source": [
    "可见，理想的基学习器 $h_t$ 将在分布 $D_t$ 下最小化分类误差。"
   ]
  },
  {
   "cell_type": "markdown",
   "metadata": {},
   "source": [
    "由上面关于$D_{t}$ 的定义，可知\n",
    "\n",
    "$$D_{t+1}(\\mathbf{x}) = \\frac{D(x) exp(-f(\\mathbf{x})H_{T}(\\mathbf{x}))}{ \\mathbf{E}_{\\mathbf{x}\\backsim D}[exp(-f(\\mathbf{x})H_{T}(\\mathbf{x}))]}$$"
   ]
  },
  {
   "cell_type": "markdown",
   "metadata": {},
   "source": [
    "我们记\n",
    "\n",
    "$$Z_t = \\frac{\\mathbf{E}_{\\mathbf{x}\\backsim D}[exp(-f(\\mathbf{x})H_{T}(\\mathbf{x}))]}{\\mathbf{E}_{\\mathbf{x}\\backsim D}[exp(-f(\\mathbf{x})H_{T-1}(\\mathbf{x}))]}$$"
   ]
  },
  {
   "cell_type": "markdown",
   "metadata": {},
   "source": [
    "于是我们有\n",
    "\n",
    "$$\\begin{split}\n",
    "\\frac{D_{t+1}(\\mathbf{x})}{D_t(\\mathbf{x})} &= \\frac{D(x) exp(-f(\\mathbf{x})H_{T}(\\mathbf{x}))}{ \\mathbf{E}_{\\mathbf{x}\\backsim D}[exp(-f(\\mathbf{x})H_{T}(\\mathbf{x}))]} \n",
    "\\frac{ \\mathbf{E}_{\\mathbf{x}\\backsim D}[exp(-f(\\mathbf{x})H_{T-1}(\\mathbf{x}))]}{D(x) exp(-f(\\mathbf{x})H_{T-1}(\\mathbf{x}))}\\\\\n",
    "&=exp \\left[f(\\mathbf{x})(H_{T-1}(\\mathbf{x}) - H_{T}(\\mathbf{x}))\\right]\\frac{1}{Z_t}\\\\\n",
    "&=exp(-f(\\mathbf{x})\\alpha_t h_t(\\mathbf{x}))\\frac{1}{Z_t}\n",
    "\\end{split}$$"
   ]
  },
  {
   "cell_type": "markdown",
   "metadata": {},
   "source": [
    "所以我们可以得出<span class=\"girk\">训练集的样本权重的迭代公式</span>为：\n",
    "\n",
    "$$ D_{t+1}(\\mathbf{x}) = \\frac{D_t(\\mathbf{x}) e^{-f(\\mathbf{x})\\alpha_t h_t(\\mathbf{x})} }{Z_t} \\tag{Sample-Weight}$$"
   ]
  },
  {
   "cell_type": "markdown",
   "metadata": {},
   "source": [
    "### 算法流程"
   ]
  },
  {
   "cell_type": "markdown",
   "metadata": {},
   "source": [
    "到此，我们便可以得到如下的 AdaBoost 算法："
   ]
  },
  {
   "cell_type": "markdown",
   "metadata": {},
   "source": [
    "<img src=\"figure/adaboost.png\" width=\"400\" hegiht=\"300\" align=left />"
   ]
  },
  {
   "cell_type": "markdown",
   "metadata": {},
   "source": [
    "备注：\n",
    "\n",
    "* 其中第3步是：基于分布 $D_t$ 的权重，从数据集 D 中采样出子集 $S_t$ 来训练出分类器 $h_t$；\n",
    "\n",
    "\n",
    "* 关于第五步的 $\\epsilon_t > 0.5$：因为在第7步中，要通过 $\\alpha_t$ 来增加错误样本的权重 $exp(\\alpha_t)$同时减小正确样本的权重 $exp(-\\alpha_t)$，也就意味着 $\\alpha_t>0$，等价于 $\\epsilon >0.5$，即学习器的分类效果应该至少是好于随机猜测的；否则这一轮训练的基学习器要被丢弃，重新训练。"
   ]
  },
  {
   "cell_type": "markdown",
   "metadata": {},
   "source": [
    "### [sklearn.ensemble.AdaBoostClassifier](https://scikit-learn.org/stable/modules/generated/sklearn.ensemble.AdaBoostClassifier.html)"
   ]
  },
  {
   "cell_type": "markdown",
   "metadata": {},
   "source": [
    "**需要注意的参数：**\n",
    "1. base_estimator：要求基学习器针对样本是可以接受权重的，具有属性 classes_ 和 n_classes_。否则需要自己重新写一个集成，可以对样本进行重新采样来给出新的样本分布；\n",
    "2. learning_rate：学习率超参数(default 为1），要在 learning_rate 和 n_estimators 之间进行平衡；\n",
    "3. algorithm : 可选参数是 SAMME 和 SAMME.R，支持多分类。SAMME.R要求学习器可以给出概率估计而不只是分类。"
   ]
  },
  {
   "cell_type": "code",
   "execution_count": 47,
   "metadata": {
    "ExecuteTime": {
     "end_time": "2019-01-10T07:05:10.714000Z",
     "start_time": "2019-01-10T07:05:10.122000Z"
    }
   },
   "outputs": [
    {
     "data": {
      "text/plain": [
       "AdaBoostClassifier(algorithm='SAMME.R',\n",
       "          base_estimator=DecisionTreeClassifier(class_weight=None, criterion='gini', max_depth=1,\n",
       "            max_features=None, max_leaf_nodes=None,\n",
       "            min_impurity_decrease=0.0, min_impurity_split=None,\n",
       "            min_samples_leaf=1, min_samples_split=2,\n",
       "            min_weight_fraction_leaf=0.0, presort=False, random_state=None,\n",
       "            splitter='best'),\n",
       "          learning_rate=0.5, n_estimators=200, random_state=42)"
      ]
     },
     "execution_count": 47,
     "metadata": {},
     "output_type": "execute_result"
    }
   ],
   "source": [
    "from sklearn.ensemble import AdaBoostClassifier\n",
    "\n",
    "ada_clf = AdaBoostClassifier(\n",
    "    DecisionTreeClassifier(max_depth=1), n_estimators=200,\n",
    "    algorithm=\"SAMME.R\", learning_rate=0.5, random_state=42)\n",
    "ada_clf.fit(X_train, y_train)"
   ]
  },
  {
   "cell_type": "markdown",
   "metadata": {},
   "source": [
    "上面是基于200个单层决策树训练的一个AdaBoost分类器。下面我们画出集成的决策边界."
   ]
  },
  {
   "cell_type": "code",
   "execution_count": 48,
   "metadata": {
    "ExecuteTime": {
     "end_time": "2019-01-10T07:07:13.159000Z",
     "start_time": "2019-01-10T07:07:12.588000Z"
    }
   },
   "outputs": [
    {
     "data": {
      "image/png": "[encoded data removed]",
      "text/plain": [
       "<matplotlib.figure.Figure at 0x1abc0828>"
      ]
     },
     "metadata": {
      "needs_background": "light"
     },
     "output_type": "display_data"
    }
   ],
   "source": [
    "plot_decision_boundary(ada_clf, X, y)"
   ]
  },
  {
   "cell_type": "markdown",
   "metadata": {},
   "source": [
    "下面我们以SVC为基学习器，在不同的学习率下，来看随着样本权重变化之后分类边界的变化。"
   ]
  },
  {
   "cell_type": "code",
   "execution_count": 52,
   "metadata": {
    "ExecuteTime": {
     "end_time": "2019-01-10T07:09:21.842000Z",
     "start_time": "2019-01-10T07:09:20.098000Z"
    }
   },
   "outputs": [
    {
     "data": {
      "image/png": "[encoded data removed]",
      "text/plain": [
       "<matplotlib.figure.Figure at 0x1b701f60>"
      ]
     },
     "metadata": {
      "needs_background": "light"
     },
     "output_type": "display_data"
    }
   ],
   "source": [
    "from sklearn.svm import SVC\n",
    "m = len(X_train)\n",
    "\n",
    "plt.figure(figsize=(11, 4))\n",
    "for subplot, learning_rate in ((121, 1), (122, 0.5)):\n",
    "    sample_weights = np.ones(m)\n",
    "    plt.subplot(subplot)\n",
    "    for i in range(5):\n",
    "        svm_clf = SVC(kernel=\"rbf\", C=0.05, gamma=\"auto\", random_state=42)\n",
    "        svm_clf.fit(X_train, y_train, sample_weight=sample_weights)\n",
    "        y_pred = svm_clf.predict(X_train)\n",
    "        sample_weights[y_pred != y_train] *= (1 + learning_rate)\n",
    "        plot_decision_boundary(svm_clf, X, y, alpha=0.2)\n",
    "        plt.title(\"learning_rate = {}\".format(learning_rate), fontsize=16)\n",
    "    if subplot == 121:\n",
    "        plt.text(-0.7, -0.65, \"1\", fontsize=14)\n",
    "        plt.text(-0.6, -0.10, \"2\", fontsize=14)\n",
    "        plt.text(-0.5,  0.10, \"3\", fontsize=14)\n",
    "        plt.text(-0.4,  0.55, \"4\", fontsize=14)\n",
    "        plt.text(-0.3,  0.90, \"5\", fontsize=14)\n",
    "plt.show()"
   ]
  },
  {
   "cell_type": "markdown",
   "metadata": {},
   "source": [
    "## Gradient Boosting"
   ]
  },
  {
   "cell_type": "markdown",
   "metadata": {},
   "source": [
    "与 AdaBoost 关注在上一轮学习中被基学习器错误分类的样本进而提升其采样权重、降低分类正确样本的采样权重不同。Gredient Boosting Machine(简称 GBM)更关注截止到目前为止集成学习的错误，并对错误进行修正的一种提升方法。\n",
    "\n",
    "下面的理论部分参考自：\n",
    "1. [Greedy Function Approximation: A Gradient Boosting Machine](https://statweb.stanford.edu/~jhf/ftp/trebst.pdf)\n",
    "2. [GBM Paper Reading](http://xtf615.com/paper/GBM.html)"
   ]
  },
  {
   "cell_type": "markdown",
   "metadata": {},
   "source": [
    "### 基本思想"
   ]
  },
  {
   "cell_type": "markdown",
   "metadata": {},
   "source": [
    "在梯度下降法中，针对成本函数 $J(\\theta)$，求解$\\theta^{\\ast} = \\arg\\min_{\\theta}J(\\theta)$ 的梯度下降法公式为：\n",
    "\n",
    "$$\\theta_{j+1} = \\theta_j - \\alpha_{j+1} \\frac{\\partial J(\\theta)}{\\partial \\theta}|_{\\theta = \\theta_j}$$"
   ]
  },
  {
   "cell_type": "markdown",
   "metadata": {},
   "source": [
    "我们将上面对最佳参数的估计问题推广到函数空间对最佳逼近函数的估计问题。求解最佳逼近函数也是一个寻优过程，只是我们寻找的是最优函数估计，而不是最优点估计。\n",
    "\n",
    "给定数据集 $D = \\{ (\\mathbf{x}_1, y_1), (\\mathbf{x}_2, y_2), ... , (\\mathbf{x}_N, y_N)\\},$ 其中 $ \\mathbf{x}_i = (x_{i1}, x_{i2}, ...,x_{id})$,优化目标通常为：\n",
    "\n",
    "$$F^{\\ast}(\\mathbf{x}) = \\arg\\min_{F(\\mathbf{x})}\\sum_{i=1}^N L(y_i, F(\\mathbf{x}_i))$$"
   ]
  },
  {
   "cell_type": "markdown",
   "metadata": {},
   "source": [
    "我们把 $F(\\mathbf{x})$ 视为参数 $\\theta$，则有\n",
    "\n",
    "$$F_{j+1}(\\mathbf{x}) = F_j(\\mathbf{x}) - \\rho_{j+1} \\frac{\\partial L}{\\partial F(\\mathbf{x}) }|_{F = F_j}$$\n",
    "\n",
    "其中$\\rho_{j+1}$ 对应的是这一轮的学习率。"
   ]
  },
  {
   "cell_type": "markdown",
   "metadata": {},
   "source": [
    "如果我们记\n",
    "\n",
    "$$g_j = \\frac{\\partial L}{\\partial F(\\mathbf{x}) }|_{F = F_j} \\quad and \\quad f_{j+1} = -\\rho_{j+1}g_j \\;(j\\geq 0) \\quad and \\quad F_0 = f_0$$"
   ]
  },
  {
   "cell_type": "markdown",
   "metadata": {},
   "source": [
    "迭代次数为 m 时对应的集成\n",
    "\n",
    "$$\\begin{split}\n",
    "F_m &= F_{m-1}- \\rho_m g_{m-1}\\\\\n",
    "&= \\sum_{i=0}^{m-1}f_i + f_m \\\\\n",
    "&= \\sum_{i=0}^{m}f_i\n",
    "\\end{split}$$"
   ]
  },
  {
   "cell_type": "markdown",
   "metadata": {},
   "source": [
    "所以，我们的目标就是求解如下的一个集成学习模型：\n",
    "\n",
    "$$F^\\ast(\\mathbf{x}) = \\sum_{i=0}^{M}f_i(\\mathbf{x})$$\n",
    "\n",
    "其中每一轮的基学习器$f_i(\\mathbf{x})$ 学习的是截止到上一轮结束整个集成 $F_{m-1}(\\mathbf{x})$的损失函数的梯度。"
   ]
  },
  {
   "cell_type": "markdown",
   "metadata": {},
   "source": [
    "### GBM 求解过程"
   ]
  },
  {
   "cell_type": "markdown",
   "metadata": {},
   "source": [
    "函数估计的目标是得到$F^{\\ast}(\\mathbf{x})$，在所有训练样本的联合分布上，最小化期望损失函数\n",
    "\n",
    "$$F^{\\ast}(\\mathbf{x}) = \\arg\\min_{F}E_{y,\\mathbf{x}}L(y, F(\\mathbf{x})) = \\arg\\min_{F}E_{\\mathbf{x}}\\left[ E_y(L(y, F(\\mathbf{x}))|\\mathbf{x})\\right]$$\n",
    "\n",
    "上式是求联合分布，等于对$E_y(L(y, F(\\mathbf{x}))|\\mathbf{x})$在x上求边缘分布。"
   ]
  },
  {
   "cell_type": "markdown",
   "metadata": {},
   "source": [
    "我们需要求解的是：\n",
    "$$F^\\ast(\\mathbf{x}) = \\sum_{i=0}^{M}f_i(\\mathbf{x})$$"
   ]
  },
  {
   "cell_type": "markdown",
   "metadata": {},
   "source": [
    "假设可以交换微分积分顺序，则：\n",
    "\n",
    "$$\\begin{split}\n",
    "g_m(\\mathbf{x}) &= \\left[\\frac{\\partial E_y(L(y, F(\\mathbf{x}))|\\mathbf{x})}{\\partial F(\\mathbf{x})}\\right]_{F(\\mathbf{x})=F_{m-1}\\;(\\mathbf{x})}\\\\\n",
    "&=E_y\\left[\\frac{\\partial (L(y, F(\\mathbf{x}))|\\mathbf{x})}{\\partial F(\\mathbf{x})}\\right]_{F(\\mathbf{x})=F_{m-1}\\;(\\mathbf{x})}\n",
    "\\end{split}$$"
   ]
  },
  {
   "cell_type": "markdown",
   "metadata": {},
   "source": [
    "乘子$\\rho_m$ 沿着梯度方向进行**线性搜索**，$\\rho_m g_m$表示步长：\n",
    "\n",
    "$$\\rho_m = \\arg\\min_{\\rho}E_{y,\\mathbf{x}}L(y, F_{m-1}(\\mathbf{x}) - \\rho g_m(\\mathbf{x}))$$"
   ]
  },
  {
   "cell_type": "markdown",
   "metadata": {},
   "source": [
    "实际上，我们只有有限的训练集 D，所以无法按照上述这种非参数的方式来进行函数估计。$E_y[\\cdot]$无法被正确估计，即使可以，也无法泛化到训练集空间的其他任意点。"
   ]
  },
  {
   "cell_type": "markdown",
   "metadata": {},
   "source": [
    "**因此，我们需要修改函数的表达形式。**可以通过限制 $F(\\mathbf{x})$ 为一系列带参数的函数集合 $F(\\mathbf{x};P),\\; P = {P_1, P_2, ..., }$ 是一个有限的参数集合。\n",
    "\n",
    "**相当于我们先确定 $F(\\mathbf{x})$ 的形式，然后再在参数空间中搜索 $F(\\mathbf{x})$ 的参数值。实际上这是将函数估计问题转化为参数估计的问题。**"
   ]
  },
  {
   "cell_type": "markdown",
   "metadata": {},
   "source": [
    "本文也采用类似的思想，使用“分步加和扩展(Stagewise Additive Expansion)”求解上述函数估计目标。我们定义集成的形式为：\n",
    "\n",
    "$$F(\\mathbf{x};\\{\\alpha_i,\\beta_i\\}_1^m) = \\sum_{i=1}^M \\beta_i h(\\mathbf{x};\\alpha_i)$$\n",
    "其中 $h(\\mathbf{x})$ 是基函数，$\\alpha_i$ 是参数，$\\beta_i$ 是基学习器的权重。"
   ]
  },
  {
   "cell_type": "markdown",
   "metadata": {},
   "source": [
    "则之前的优化问题可以转化为\n",
    "\n",
    "$$\\{\\alpha_i,\\beta_i\\}_1^m = \\arg\\min_{\\{\\alpha_i^\\prime,\\beta_i^\\prime\\}_1^m}\\sum_{j=1}^N L\\left(y_j, \\sum_{i=1}^M \\beta_i^\\prime h(\\mathbf{x};\\alpha_i^\\prime)\\right)$$"
   ]
  },
  {
   "cell_type": "markdown",
   "metadata": {},
   "source": [
    "上面的求解还是复杂的，因为我们要一次性求出所有的$\\{\\alpha_i^\\prime,\\beta_i^\\prime\\}_1^m$，另外当加入新的基学习器时还要调整之前的基学习器。我们采用贪心思想的Greedy Stagewise方法：\n",
    "\n",
    "$$(\\alpha_i,\\beta_i) = \\arg\\min_{\\alpha,\\beta}\\sum_{j=1}^N L\\left(y_j, F_{i-1}(\\mathbf{x}) +\\beta h(\\mathbf{x};\\alpha)\\right)$$\n",
    "\n",
    "然后更新\n",
    "\n",
    "$$F_{i}(\\mathbf{x}) = F_{i-1}(\\mathbf{x}) + \\beta_i h(\\mathbf{x};\\alpha_i)$$"
   ]
  },
  {
   "cell_type": "markdown",
   "metadata": {},
   "source": [
    "这是一种分步加和扩展的方式(注意min的下标)，即每次只训练一个弱分类器，当新分类器被加入模型的时候，不调整原来得到的分类器, 实际上是一种贪心策略。"
   ]
  },
  {
   "cell_type": "markdown",
   "metadata": {},
   "source": [
    "**对于给定的损失函数$L(y,F)$和基分类器$h(\\mathbf{x};\\alpha)$ 来求解函数最小化问题是困难的。**\n",
    "\n",
    "**下面我们将上述求解函数最小化问题转变为 (fit-para) 中的最小二乘估计问题，且之后求解$\\rho_m$只有一个参数，很容易求解。因此只要存在能够使用最小二乘估计求解 (fit-para) 中的负梯度拟合问题的基函数,那么就可以使用前向加和模型(forward stagewise additive model) 来求解复杂的损失函数优化问题。**"
   ]
  },
  {
   "cell_type": "markdown",
   "metadata": {},
   "source": [
    "我们构建样本函数值$F(\\mathbf{x}_i)$的负梯度如下：\n",
    "\n",
    "$$-g_m(\\mathbf{x}_i) = -\\left[\\frac{\\partial L(y_i, F(\\mathbf{x}_i))}{\\partial F(\\mathbf{x}_i)}\\right]_{F(\\mathbf{x})=F_{m-1}\\;(\\mathbf{x})}$$"
   ]
  },
  {
   "cell_type": "markdown",
   "metadata": {},
   "source": [
    "因此函数 $F_{m-1}$ 在训练样本上的梯度是 $-g_m(\\mathbf{x}) = \\{-g_m(\\mathbf{x}_i)\\}_1^N$，然而这个无法泛化到训练样本以外其它样本上。\n",
    "\n",
    "我们原本的目标是需要损失函数 L 对函数 $F(\\mathbf{x})$ 进行求梯度(参考“基本思想”)，函数对函数的梯度难以求解，现在通过所有样本在 $F(\\mathbf{x})$ 处取值的梯度集合 $-g_m(\\mathbf{x})$ 来近似替代 L 对函数 $F(\\mathbf{x})$ 的梯度。然而这里只是对训练集进行求值替代，为了能够泛化到其他数据集，我们需要根据训练集在 $F(\\mathbf{x})$ 取值的梯度集合拟合出L 对函数 $F(\\mathbf{x})$ 的梯度,使得其能够泛化到其它样本上。"
   ]
  },
  {
   "cell_type": "markdown",
   "metadata": {},
   "source": [
    "使用平方误差损失在样本上进行拟合：\n",
    "\n",
    "$$\\alpha_m = \\arg\\min_{\\alpha,\\beta}\\sum_{i=1}^N\\left(-g_m(\\mathbf{x}_i) - \\beta h(\\mathbf{x};\\alpha_i)\\right)^2\\tag{fit-para}$$"
   ]
  },
  {
   "cell_type": "markdown",
   "metadata": {},
   "source": [
    "找到负梯度拟合函数$h(\\mathbf{x};\\alpha_m)$后，就可以使用**线性搜索方法**在负梯度方向上进行搜索乘子$\\rho_m$\n",
    "\n",
    "$$\\rho_m = \\arg\\min_{\\rho}\\sum_{i=1}^N L(y_i, F_{m-1}(\\mathbf{x}_i) + \\rho h(\\mathbf{x}_i;\\alpha_m))$$"
   ]
  },
  {
   "cell_type": "markdown",
   "metadata": {},
   "source": [
    "然后更新模型：\n",
    "\n",
    "$$F_{m}(\\mathbf{x}) = F_{m-1}(\\mathbf{x}) + \\rho_m h(\\mathbf{x};\\alpha_m)$$"
   ]
  },
  {
   "cell_type": "markdown",
   "metadata": {},
   "source": [
    "### GBM算法流程"
   ]
  },
  {
   "cell_type": "markdown",
   "metadata": {},
   "source": [
    "<img src=\"figure/GBM.png\" width=\"500\" hegiht=\"400\" align=left />"
   ]
  },
  {
   "cell_type": "markdown",
   "metadata": {},
   "source": [
    "注意：\n",
    "1. 上述第4步也可以使用其他拟合方法进行求解，最小二乘法是其中一种简单又自然的选择；\n",
    "2. 我们要注意上述中的 $\\rho_m$ 和 $\\beta_m$ 是不一样的，只不过在某些特定的损失函数中，$\\beta_m$ 的某种形式可以等价于 $\\rho_m$。"
   ]
  },
  {
   "cell_type": "markdown",
   "metadata": {},
   "source": [
    "### GBM 正则化"
   ]
  },
  {
   "cell_type": "markdown",
   "metadata": {},
   "source": [
    "在训练集上训练模型来减少期望损失通常会产生过拟合的现象。正则化通过约束训练过程来减轻过拟合。对于加和扩展模型，一种想法是通过交叉验证来控制基学习器$\\{h(\\mathbf{x};\\alpha_m)\\}^M_1$的数量 M ；另一种正则化思想是使用收缩因子来控制拟合过程，即学习速率。如下：\n",
    "\n",
    "$$F_m(\\mathbf{x}) = F_{m-1}(\\mathbf{x}) + v\\cdot \\rho_m h(\\mathbf{x};\\alpha_m)$$\n",
    "\n",
    "这两者存在平衡关系，减少学习速率意味着收敛速度降低，需要更多次迭代，则会增加模型的数量M。"
   ]
  },
  {
   "cell_type": "markdown",
   "metadata": {},
   "source": [
    "下面是一个示例来说明学习率和树的数量之间的平衡关系。"
   ]
  },
  {
   "cell_type": "code",
   "execution_count": 2,
   "metadata": {
    "ExecuteTime": {
     "end_time": "2019-01-17T01:39:34.658000Z",
     "start_time": "2019-01-17T01:39:34.170000Z"
    }
   },
   "outputs": [],
   "source": [
    "import matplotlib.pyplot as plt\n",
    "def plot_predictions(regressors, X, y, axes, label=None, style=\"r-\", data_style=\"b.\", data_label=None):\n",
    "    x1 = np.linspace(axes[0], axes[1], 500)\n",
    "    y_pred = sum(regressor.predict(x1.reshape(-1, 1)) for regressor in regressors)\n",
    "    plt.plot(X[:, 0], y, data_style, label=data_label)\n",
    "    plt.plot(x1, y_pred, style, linewidth=2, label=label)\n",
    "    if label or data_label:\n",
    "        plt.legend(loc=\"upper center\", fontsize=16)\n",
    "    plt.axis(axes)"
   ]
  },
  {
   "cell_type": "code",
   "execution_count": 5,
   "metadata": {
    "ExecuteTime": {
     "end_time": "2019-01-17T01:57:52.732000Z",
     "start_time": "2019-01-17T01:57:52.675000Z"
    }
   },
   "outputs": [
    {
     "data": {
      "text/plain": [
       "GradientBoostingRegressor(alpha=0.9, criterion='friedman_mse', init=None,\n",
       "             learning_rate=0.1, loss='ls', max_depth=2, max_features=None,\n",
       "             max_leaf_nodes=None, min_impurity_decrease=0.0,\n",
       "             min_impurity_split=None, min_samples_leaf=1,\n",
       "             min_samples_split=2, min_weight_fraction_leaf=0.0,\n",
       "             n_estimators=200, n_iter_no_change=None, presort='auto',\n",
       "             random_state=42, subsample=1.0, tol=0.0001,\n",
       "             validation_fraction=0.1, verbose=0, warm_start=False)"
      ]
     },
     "execution_count": 5,
     "metadata": {},
     "output_type": "execute_result"
    }
   ],
   "source": [
    "import numpy as np\n",
    "np.random.seed(42)\n",
    "X = np.random.rand(100, 1) - 0.5\n",
    "y = 3*X[:, 0]**2 + 0.05 * np.random.randn(100)\n",
    "\n",
    "\n",
    "from sklearn.ensemble import GradientBoostingRegressor\n",
    "gbrt = GradientBoostingRegressor(max_depth=2, n_estimators=3, learning_rate=1.0, random_state=42)\n",
    "gbrt.fit(X, y)\n",
    "gbrt_slow = GradientBoostingRegressor(max_depth=2, n_estimators=200, learning_rate=0.1, random_state=42)\n",
    "gbrt_slow.fit(X, y)"
   ]
  },
  {
   "cell_type": "code",
   "execution_count": 7,
   "metadata": {
    "ExecuteTime": {
     "end_time": "2019-01-17T01:58:02.056000Z",
     "start_time": "2019-01-17T01:58:01.731000Z"
    }
   },
   "outputs": [
    {
     "data": {
      "image/png": "[encoded data removed]",
      "text/plain": [
       "<matplotlib.figure.Figure at 0x1c584da0>"
      ]
     },
     "metadata": {
      "needs_background": "light"
     },
     "output_type": "display_data"
    }
   ],
   "source": [
    "plt.figure(figsize=(11,4))\n",
    "\n",
    "plt.subplot(121)\n",
    "plot_predictions([gbrt], X, y, axes=[-0.5, 0.5, -0.1, 0.8], label=\"Ensemble predictions\")\n",
    "plt.title(\"learning_rate={}, n_estimators={}\".format(gbrt.learning_rate, gbrt.n_estimators), fontsize=14)\n",
    "\n",
    "plt.subplot(122)\n",
    "plot_predictions([gbrt_slow], X, y, axes=[-0.5, 0.5, -0.1, 0.8])\n",
    "plt.title(\"learning_rate={}, n_estimators={}\".format(gbrt_slow.learning_rate, gbrt_slow.n_estimators), fontsize=14)\n",
    "plt.show()"
   ]
  },
  {
   "cell_type": "markdown",
   "metadata": {},
   "source": [
    "通过上图可知，左侧训练集的树数量不足，右侧拟合训练集的树数量过多而导致过度拟合。"
   ]
  },
  {
   "cell_type": "markdown",
   "metadata": {},
   "source": [
    "### [sklearn.ensemble.GradientBoostingClassifier](https://scikit-learn.org/stable/modules/generated/sklearn.ensemble.GradientBoostingClassifier.html)"
   ]
  },
  {
   "cell_type": "markdown",
   "metadata": {},
   "source": [
    "### [sklearn.ensemble.GradientBoostingRegressor](https://scikit-learn.org/stable/modules/generated/sklearn.ensemble.GradientBoostingRegressor.html)"
   ]
  },
  {
   "cell_type": "markdown",
   "metadata": {},
   "source": [
    "**Gradient Boosting with Early stopping**"
   ]
  },
  {
   "cell_type": "markdown",
   "metadata": {},
   "source": [
    "下面我们通过**早期停止法**来寻找树的最佳数量，简单的实现方法就是使用 **staged_predict() 方法：在训练的每个阶段都会对集成的预测返回一个迭代器。**"
   ]
  },
  {
   "cell_type": "code",
   "execution_count": 8,
   "metadata": {
    "ExecuteTime": {
     "end_time": "2019-01-17T02:08:42.771000Z",
     "start_time": "2019-01-17T02:08:42.651000Z"
    }
   },
   "outputs": [
    {
     "data": {
      "text/plain": [
       "GradientBoostingRegressor(alpha=0.9, criterion='friedman_mse', init=None,\n",
       "             learning_rate=0.1, loss='ls', max_depth=2, max_features=None,\n",
       "             max_leaf_nodes=None, min_impurity_decrease=0.0,\n",
       "             min_impurity_split=None, min_samples_leaf=1,\n",
       "             min_samples_split=2, min_weight_fraction_leaf=0.0,\n",
       "             n_estimators=55, n_iter_no_change=None, presort='auto',\n",
       "             random_state=42, subsample=1.0, tol=0.0001,\n",
       "             validation_fraction=0.1, verbose=0, warm_start=False)"
      ]
     },
     "execution_count": 8,
     "metadata": {},
     "output_type": "execute_result"
    }
   ],
   "source": [
    "import numpy as np\n",
    "from sklearn.model_selection import train_test_split\n",
    "from sklearn.metrics import mean_squared_error\n",
    "\n",
    "X_train, X_val, y_train, y_val = train_test_split(X, y, random_state=49)\n",
    "\n",
    "gbrt = GradientBoostingRegressor(max_depth=2, n_estimators=120, random_state=42)\n",
    "gbrt.fit(X_train, y_train)\n",
    "\n",
    "errors = [mean_squared_error(y_val, y_pred)\n",
    "          for y_pred in gbrt.staged_predict(X_val)]\n",
    "bst_n_estimators = np.argmin(errors)\n",
    "\n",
    "gbrt_best = GradientBoostingRegressor(max_depth=2,n_estimators=bst_n_estimators, random_state=42)\n",
    "gbrt_best.fit(X_train, y_train)"
   ]
  },
  {
   "cell_type": "code",
   "execution_count": 9,
   "metadata": {
    "ExecuteTime": {
     "end_time": "2019-01-17T02:08:45.177000Z",
     "start_time": "2019-01-17T02:08:45.173000Z"
    }
   },
   "outputs": [],
   "source": [
    "min_error = np.min(errors)"
   ]
  },
  {
   "cell_type": "code",
   "execution_count": 11,
   "metadata": {
    "ExecuteTime": {
     "end_time": "2019-01-17T02:08:53.423000Z",
     "start_time": "2019-01-17T02:08:53.060000Z"
    },
    "scrolled": true
   },
   "outputs": [
    {
     "data": {
      "image/png": "[encoded data removed]",
      "text/plain": [
       "<matplotlib.figure.Figure at 0x18f55f28>"
      ]
     },
     "metadata": {
      "needs_background": "light"
     },
     "output_type": "display_data"
    }
   ],
   "source": [
    "plt.figure(figsize=(11, 4))\n",
    "\n",
    "plt.subplot(121)\n",
    "plt.plot(errors, \"b.-\")\n",
    "plt.plot([bst_n_estimators, bst_n_estimators], [0, min_error], \"k--\")\n",
    "plt.plot([0, 120], [min_error, min_error], \"k--\")\n",
    "plt.plot(bst_n_estimators, min_error, \"ko\")\n",
    "plt.text(bst_n_estimators, min_error*1.2, \"Minimum\", ha=\"center\", fontsize=14)\n",
    "plt.axis([0, 120, 0, 0.01])\n",
    "plt.xlabel(\"Number of trees\")\n",
    "plt.title(\"Validation error\", fontsize=14)\n",
    "\n",
    "plt.subplot(122)\n",
    "plot_predictions([gbrt_best], X, y, axes=[-0.5, 0.5, -0.1, 0.8])\n",
    "plt.title(\"Best model (%d trees)\" % bst_n_estimators, fontsize=14)\n",
    "\n",
    "plt.show()"
   ]
  },
  {
   "cell_type": "markdown",
   "metadata": {},
   "source": [
    "实际上，要实现早期停止法，不一定需要预先训练大量的树，然后回头找最优的数量，可以真的实现提前停止训练。设置 warm_state = True, 当 fit() 方法被调用时，sklearn 会保留现有的树，从而允许增量训练。以下代码会在验证误差连续5次迭代未改善时，直接停止训练。"
   ]
  },
  {
   "cell_type": "code",
   "execution_count": 12,
   "metadata": {
    "ExecuteTime": {
     "end_time": "2019-01-17T02:16:54.396000Z",
     "start_time": "2019-01-17T02:16:54.328000Z"
    }
   },
   "outputs": [],
   "source": [
    "gbrt = GradientBoostingRegressor(max_depth=2, warm_start=True, random_state=42)\n",
    "\n",
    "min_val_error = float(\"inf\")\n",
    "error_going_up = 0\n",
    "for n_estimators in range(1, 120):\n",
    "    gbrt.n_estimators = n_estimators\n",
    "    gbrt.fit(X_train, y_train)\n",
    "    y_pred = gbrt.predict(X_val)\n",
    "    val_error = mean_squared_error(y_val, y_pred)\n",
    "    if val_error < min_val_error:\n",
    "        min_val_error = val_error\n",
    "        error_going_up = 0\n",
    "    else:\n",
    "        error_going_up += 1\n",
    "        if error_going_up == 5:\n",
    "            break  # early stopping"
   ]
  },
  {
   "cell_type": "code",
   "execution_count": 13,
   "metadata": {
    "ExecuteTime": {
     "end_time": "2019-01-17T02:16:57.618000Z",
     "start_time": "2019-01-17T02:16:57.598000Z"
    }
   },
   "outputs": [
    {
     "name": "stdout",
     "output_type": "stream",
     "text": [
      "61\n",
      "Minimum validation MSE: 0.00271285332524\n"
     ]
    }
   ],
   "source": [
    "print gbrt.n_estimators\n",
    "print \"Minimum validation MSE:\", min_val_error "
   ]
  },
  {
   "cell_type": "markdown",
   "metadata": {},
   "source": [
    "注：梯度提升分类和回归都支持超参数 subsample，指定用于训练每棵树的实例的比例。**这种做法用更高的偏差换取了更低的方差，同时相当大程度上加速了训练过程。称之为随机梯度提升。**"
   ]
  },
  {
   "cell_type": "markdown",
   "metadata": {},
   "source": [
    "### [调参建议](https://jokerandjozee.com/2018/04/04/gradient-boosting-machinegbm/)"
   ]
  },
  {
   "cell_type": "markdown",
   "metadata": {
    "run_control": {
     "marked": true
    }
   },
   "source": [
    "### XGBoost and LightGBM(待补充)"
   ]
  },
  {
   "cell_type": "markdown",
   "metadata": {},
   "source": [
    "以下内容参考自论文：\n",
    "1. [XGBoost](https://arxiv.org/pdf/1603.02754.pdf)\n",
    "2. [LightGBM](https://papers.nips.cc/paper/6907-lightgbm-a-highly-efficient-gradient-boosting-decision-tree.pdf)"
   ]
  },
  {
   "cell_type": "markdown",
   "metadata": {},
   "source": [
    "## 堆叠法(stacking)"
   ]
  },
  {
   "cell_type": "markdown",
   "metadata": {},
   "source": [
    "它基于一个简单的想法：相比之前的集成，都是通过一些简单的函数（平均法、投票法）来综合各个集成的结果得到最终输出。现在的做法是，**以各个集成的输出作为输入，训练一个模型（可以是一个学习器也可以是另外一个集成，我觉得这个有点神经网络的思路在里面了）来执行这个过程。**\n",
    "\n",
    "上述的介绍是加了一层模型来对输出进行训练，实际上还可以在第二层模型之上再加一层模型来进行训练，这也就是“堆叠”的含义。\n",
    "\n",
    "以最简单的堆叠法为例，也就是只加一层模型。训练混合器常用方法是留存法：\n",
    "\n",
    "1. 将训练集 $D$ 分为两个不相交子集$D = D_1 \\cup D_2$，$D_1$ 用来训练第一层的集成 $C_1$(假设有M个基学习器)；\n",
    "2. 将训练好的$C_1$在 $D_2$ 上进行预测，得到预测值集合 $Y_{D_2}$(因为预测器在训练时没有见过这些实例，所以预测是“干净的”)；\n",
    "3. 以 $Y_{D_2}$ 和 $D_2$ 中样本的真实目标值结合创建新的训练集 $\\hat{D}$，其规模为：\n",
    "\n",
    "$$|\\hat{D}|=|Y_{D_2}|\\cdot M$$\n",
    "\n",
    "4. 在 $\\hat{D}$ 上训练一个新的模型，将其输出作为最终的预测输出。"
   ]
  },
  {
   "cell_type": "markdown",
   "metadata": {},
   "source": [
    "## Boosting 算法的特性"
   ]
  },
  {
   "cell_type": "markdown",
   "metadata": {},
   "source": [
    "Boosting 算法在每一轮的训练过程中：\n",
    "1. 对于可以接受带权样本的基学习算法，通过**“重赋权法”**实施，对样本重新赋予一个权重；\n",
    "2. 对无法接受带权样本的基学习算法，则可以通过**“重采样法”**来处理，即根据样本分布对训练集重新采样，再用重采样而得的样本集对基学习器进行训练。"
   ]
  },
  {
   "cell_type": "markdown",
   "metadata": {},
   "source": [
    "值得注意的是，Boosting 算法在每一轮都要检查当前的基学习器是否好于随机猜测（准确率大于0.5），如果不满足则丢弃当前的基学习器，并且学习过程停止。此种情形下，初始设置的学习轮数 T 也许远未达到，可能导致集成性能不佳。\n",
    "\n",
    "\n",
    "**若采用“重采样法”，则可以获得“重启动”的机会来避免训练过程过早停止，即抛弃当前的基学习器，根据当前分布对训练集重新采样，基于新的采样结果重新训练出基学习器，使得学习过程可以持续。**\n",
    "\n",
    "从偏差-方差角度看，Boosting 族算法主要关注降低偏差，增加被错误识别样本的权重来降低偏差，因此 Boosting 算法能基于泛化性能相当弱的学习器构建出很强的集成。"
   ]
  }
 ],
 "metadata": {
  "hide_input": false,
  "kernelspec": {
   "display_name": "Python 3 (ipykernel)",
   "language": "python",
   "name": "python3"
  },
  "language_info": {
   "codemirror_mode": {
    "name": "ipython",
    "version": 3
   },
   "file_extension": ".py",
   "mimetype": "text/x-python",
   "name": "python",
   "nbconvert_exporter": "python",
   "pygments_lexer": "ipython3",
   "version": "3.10.1"
  },
  "latex_envs": {
   "LaTeX_envs_menu_present": true,
   "autoclose": false,
   "autocomplete": true,
   "bibliofile": "biblio.bib",
   "cite_by": "apalike",
   "current_citInitial": 1,
   "eqLabelWithNumbers": true,
   "eqNumInitial": 1,
   "hotkeys": {
    "equation": "Ctrl-E",
    "itemize": "Ctrl-I"
   },
   "labels_anchors": false,
   "latex_user_defs": false,
   "report_style_numbering": false,
   "user_envs_cfg": false
  },
  "toc": {
   "base_numbering": 1,
   "nav_menu": {},
   "number_sections": true,
   "sideBar": true,
   "skip_h1_title": false,
   "title_cell": "Table of Contents",
   "title_sidebar": "Contents",
   "toc_cell": false,
   "toc_position": {
    "height": "47px",
    "left": "1207px",
    "top": "110px",
    "width": "208px"
   },
   "toc_section_display": true,
   "toc_window_display": true
  },
  "varInspector": {
   "cols": {
    "lenName": 16,
    "lenType": 16,
    "lenVar": 40
   },
   "kernels_config": {
    "python": {
     "delete_cmd_postfix": "",
     "delete_cmd_prefix": "del ",
     "library": "var_list.py",
     "varRefreshCmd": "print(var_dic_list())"
    },
    "r": {
     "delete_cmd_postfix": ") ",
     "delete_cmd_prefix": "rm(",
     "library": "var_list.r",
     "varRefreshCmd": "cat(var_dic_list()) "
    }
   },
   "types_to_exclude": [
    "module",
    "function",
    "builtin_function_or_method",
    "instance",
    "_Feature"
   ],
   "window_display": false
  }
 },
 "nbformat": 4,
 "nbformat_minor": 2
}
