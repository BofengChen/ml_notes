{
 "cells": [
  {
   "cell_type": "markdown",
   "metadata": {},
   "source": [
    "# 朴素贝叶斯分类器"
   ]
  },
  {
   "cell_type": "markdown",
   "metadata": {},
   "source": [
    "## 似然\n",
    "\n",
    "[似然函数的定义](https://zh.wikipedia.org/wiki/%E4%BC%BC%E7%84%B6%E5%87%BD%E6%95%B0)"
   ]
  },
  {
   "cell_type": "markdown",
   "metadata": {},
   "source": [
    "## 朴素贝叶斯分类器公式"
   ]
  },
  {
   "cell_type": "markdown",
   "metadata": {},
   "source": [
    "给定已标记数据集 $D = \\{ (\\mathbf{x}_1, y_1), (\\mathbf{x}_2, y_2), ... , (\\mathbf{x}_n, y_n)\\},$ 其中 $ \\mathbf{x}_i = (x_{i1}, x_{i2}, ...,x_{id}), y_i\\in \\widehat{C} = \\{C_1, C_2, ... , C_b\\}$.\n",
    "\n",
    "这个数据集有 d 个特征，b 个类别。针对一个新的输入样本 $\\mathbf{x}$，我们要预测 y 的值，也就是对 $\\mathbf{x}$ 进行分类。一个典型的多分类问题。\n",
    "\n",
    "用统计学语言来描述这个分类问题就是，**当观察到输入样本是 $\\mathbf{x}$ 时，其所属于类别 $ y = C_k$ 的条件概率。我们只需要分别求出样本属于 b 个类别的概率，然后取概率最大的类别即为 样本  $\\mathbf{x}$ 所属类别。**\n",
    "\n",
    "使用条件概率的公式表达为\n",
    "\n",
    "$$ C_{best} = \\arg \\max _{\\widehat{C}} P(C_k|\\mathbf{x})$$"
   ]
  },
  {
   "cell_type": "markdown",
   "metadata": {},
   "source": [
    "直接求解上式比较难，我们可以通过贝叶斯公式来进行一次变换：\n",
    "\n",
    "$$ P(C_k | \\mathbf{x}) = \\frac{P(\\mathbf{x}| C_k)P(C_k)}{P(\\mathbf{x})}$$"
   ]
  },
  {
   "cell_type": "markdown",
   "metadata": {},
   "source": [
    "对于确定的数据集， $C_k, P(\\mathbf{x})$ 都是固定的值，所以：\n",
    "\n",
    "$$ P(C_k | \\mathbf{x})  \\propto P(\\mathbf{x}|C_k)P(C_k)$$\n",
    "\n",
    "其中， $\\propto$ 表示正比的意思。\n",
    "\n",
    "求解样本所属最大概率的类别等价于：\n",
    "\n",
    "$$ C_{best} = \\arg \\max _{\\widehat{C}} P(\\mathbf{x}|C_k)P(C_k)$$"
   ]
  },
  {
   "cell_type": "markdown",
   "metadata": {},
   "source": [
    "根据联合概率公式，有\n",
    "\n",
    "$$\\begin{split}\n",
    " P(\\mathbf{x}|C_k)P(C_k) = P(\\mathbf{x},C_k) &= P(x_1, x_2, ... , x_n, C_k) \\\\\n",
    " &=P(x_1| x_2, ... , x_n, C_k)P(x_2, ... , x_n, C_k)\\\\\n",
    " &= P(x_1| x_2, ... , x_n, C_k)P(x_2|x_3, ... , x_n, C_k)...P(x_n|C_k)P(C_k)\n",
    "\\end{split}$$"
   ]
  },
  {
   "cell_type": "markdown",
   "metadata": {},
   "source": [
    "从上式中我们发现，$P(x_1, x_2, ... , x_n, C_k)$是所有属性特征的联合分布，很难从有限的训练样本上直接估计而得。**为避开这个障碍，朴素贝叶斯分类器采用了“属性条件独立性假设”：对所有类别，假设所有属性相互独立，也就是说，假设每个属性独立地对分类结果发生影响。**\n",
    "\n",
    "即满足下面的公式：\n",
    "\n",
    "$$P(x_{i}|x_{i+1}, ... , x_n, C_k) = P(x_i|C_k)$$\n",
    "\n",
    "有了这个假设，我们可以简化之前的等式为：\n",
    "\n",
    "$$P(\\mathbf{x}|C_k)P(C_k) = P(x_1|C_k)P(x_2|C_k)...P(x_n|C_k)P(C_k)$$\n",
    "\n",
    "进而，我们的朴素贝叶斯分类器为：\n",
    "\n",
    "$$ C_{best} = \\arg \\max _{\\widehat{C}} P(C_k)\\prod_{i=1}^n P(x_i|C_k)$$"
   ]
  },
  {
   "cell_type": "markdown",
   "metadata": {},
   "source": [
    "其中，$P(C_k)$ 表示 训练集中每个类别出现的概率，可以统计得出；$P(x_i|C_k)$表示当类别为 $C_k$ 时，特征 $x_i$ 出现的概率，这个值也可以统计得出。以上我们就得出了最原始的朴素贝叶斯分类器的数学表达式，本质上是一个**最大似然估计**。\n",
    "\n",
    "**注：在实际计算中，为了防止造成下溢，可以使用对数似然估计。**"
   ]
  },
  {
   "cell_type": "markdown",
   "metadata": {},
   "source": [
    "令 $\\widehat{D}_{C_k}$ 表示训练集 $\\widehat{D}$ 中 k 类样本组成的集合，在朴素贝叶斯的假设下，可以容易估计出类别的先验概率：\n",
    "\n",
    "$$ P(C_k) = \\frac{|\\widehat{D}_{C_k}|}{|\\widehat{D}|}$$"
   ]
  },
  {
   "cell_type": "markdown",
   "metadata": {},
   "source": [
    "对离散属性而言， 令 $\\widehat{D}_{C_k, x_{ij}}$ 表示$\\widehat{D}_{C_k}$ 中在第 i 个特征上取值为 $x_{ij}$ 的样本组成的集合，则条件概率 $P(x_i=x_{ij}|C_k)$可估计为：\n",
    "\n",
    "$$ P(x_i=x_{ij}|C_k) = \\frac{|\\widehat{D}_{C_k, x_{ij}}|}{|\\widehat{D}_{C_k}|}$$"
   ]
  },
  {
   "cell_type": "markdown",
   "metadata": {},
   "source": [
    "**注：当某个特征的值不是离散值是连续值时，可以通过假设该特征满足某个分布（比如高斯分布），通过计算其均值、方差然后得到概率密度函数，然后将该属性的值带入密度函数计算其条件概率。**"
   ]
  },
  {
   "cell_type": "markdown",
   "metadata": {},
   "source": [
    "## 拉普拉斯平滑与增量学习"
   ]
  },
  {
   "cell_type": "markdown",
   "metadata": {},
   "source": [
    "在进行分类的时候，会存在某些特征的某个属性值没有在训练集中与某个类同时出现过，对应的概率为0。为了避免这种情况，在进行概率估计时常常要进行“平滑”。令 $N_i$ 表示第i个特征的所有枚举可能值的数量。则\n",
    "\n",
    "$$ P(C_k) = \\frac{|\\widehat{D}_{C_k}| + 1}{|\\widehat{D}| + |\\widehat{C}|}$$\n",
    "\n",
    "$$ P(x_i=x_{ij}|C_k) = \\frac{|\\widehat{D}_{C_k, x_{ij}}| + 1}{|\\widehat{D}_{C_k}| + \\lambda N_i }$$"
   ]
  },
  {
   "cell_type": "markdown",
   "metadata": {},
   "source": [
    "其中 $\\lambda$ 为平滑因子，当取值为1时，就是**“拉普拉斯平滑”**。"
   ]
  },
  {
   "cell_type": "markdown",
   "metadata": {},
   "source": [
    "**懒惰学习与增量学习：**\n",
    "\n",
    "* 在现实任务中，朴素贝叶斯分类器有多种使用方式。例如，在任务对预测速度比较高时，对给定训练集，可以将朴素贝叶斯分类器的所有概率估值事先计算存储起来，在进行预测时进行“查表”即可；\n",
    "* 若任务数据更替频繁，可以采用“懒惰学习”，先不进行任何训练，待收到预测请求时再根据当前数据集进行概率估值；\n",
    "* 若数据不断增加，可以再现有估值基础上，仅对新增加样本的属性值所涉及的概率估值进行计数修正即可实现增量学习。"
   ]
  },
  {
   "cell_type": "markdown",
   "metadata": {},
   "source": [
    "## [sklearn.naive_bayes](https://scikit-learn.org/stable/modules/classes.html#module-sklearn.naive_bayes)\n",
    "1. 高斯分布：[naive_bayes.GaussianNB](https://scikit-learn.org/stable/modules/generated/sklearn.naive_bayes.GaussianNB.html#sklearn.naive_bayes.GaussianNB)\n",
    "2. 伯努利分布：[naive_bayes.BernoulliNB](https://scikit-learn.org/stable/modules/generated/sklearn.naive_bayes.BernoulliNB.html#sklearn.naive_bayes.BernoulliNB)。其中参数 binarize 为二值化的阈值，默认为0，如果输入其他值，大于该值的为1，小于该值的为0.\n",
    "    \n",
    "3. 多项式分布：[naive_bayes.MultinomialNB](https://scikit-learn.org/stable/modules/generated/sklearn.naive_bayes.MultinomialNB.html#sklearn.naive_bayes.MultinomialNB)\n",
    "4. 带正则项的多项式分布：[naive_bayes.ComplementNB](https://scikit-learn.org/stable/modules/generated/sklearn.naive_bayes.ComplementNB.html#sklearn.naive_bayes.ComplementNB)\n",
    "5. 三个分布共有的参数alpha：作用是平滑因子，默认取值为1；取值为1时为拉普拉斯平滑。\n",
    "6. 共同的 methods 里有partial_fit，适合大数量量的时候进行增量批次进行学习。\n",
    "\n",
    "这三个类适用的分类场景各不相同，一般来说：\n",
    "* 如果样本特征的分布大部分是连续值，使用GaussianNB会比较好；\n",
    "* 如果如果样本特征大部分是多元离散值，使用MultinomialNB比较合适；\n",
    "* 而如果样本特征是二元离散值或者很稀疏的多元离散值，应该使用BernoulliNB。"
   ]
  }
 ],
 "metadata": {
  "kernelspec": {
   "display_name": "Python 3 (ipykernel)",
   "language": "python",
   "name": "python3"
  },
  "language_info": {
   "codemirror_mode": {
    "name": "ipython",
    "version": 3
   },
   "file_extension": ".py",
   "mimetype": "text/x-python",
   "name": "python",
   "nbconvert_exporter": "python",
   "pygments_lexer": "ipython3",
   "version": "3.10.1"
  },
  "latex_envs": {
   "LaTeX_envs_menu_present": true,
   "autoclose": false,
   "autocomplete": true,
   "bibliofile": "biblio.bib",
   "cite_by": "apalike",
   "current_citInitial": 1,
   "eqLabelWithNumbers": true,
   "eqNumInitial": 1,
   "hotkeys": {
    "equation": "Ctrl-E",
    "itemize": "Ctrl-I"
   },
   "labels_anchors": false,
   "latex_user_defs": false,
   "report_style_numbering": false,
   "user_envs_cfg": false
  },
  "toc": {
   "base_numbering": 1,
   "nav_menu": {},
   "number_sections": true,
   "sideBar": true,
   "skip_h1_title": false,
   "title_cell": "Table of Contents",
   "title_sidebar": "Contents",
   "toc_cell": false,
   "toc_position": {
    "height": "473px",
    "left": "1207px",
    "top": "134px",
    "width": "165px"
   },
   "toc_section_display": true,
   "toc_window_display": true
  },
  "varInspector": {
   "cols": {
    "lenName": 16,
    "lenType": 16,
    "lenVar": 40
   },
   "kernels_config": {
    "python": {
     "delete_cmd_postfix": "",
     "delete_cmd_prefix": "del ",
     "library": "var_list.py",
     "varRefreshCmd": "print(var_dic_list())"
    },
    "r": {
     "delete_cmd_postfix": ") ",
     "delete_cmd_prefix": "rm(",
     "library": "var_list.r",
     "varRefreshCmd": "cat(var_dic_list()) "
    }
   },
   "types_to_exclude": [
    "module",
    "function",
    "builtin_function_or_method",
    "instance",
    "_Feature"
   ],
   "window_display": false
  }
 },
 "nbformat": 4,
 "nbformat_minor": 2
}
