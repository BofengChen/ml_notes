{
 "cells": [
  {
   "cell_type": "markdown",
   "metadata": {},
   "source": [
    "# k近邻(KNN)"
   ]
  },
  {
   "cell_type": "markdown",
   "metadata": {},
   "source": [
    "## 基本思想"
   ]
  },
  {
   "cell_type": "markdown",
   "metadata": {},
   "source": [
    "k 近邻(k-Nearest Neighbor,简称 KNN)学习是一种常用的监督学习方法。其工作机制非常简单：\n",
    "\n",
    "    给定测试样本，基于某种距离度量找出训练集里与其最靠近的 k 个训练样本，然后基于这 k 个“邻居”的信息来进行预测。\n",
    "\n",
    "通常：\n",
    "\n",
    "    1. 在分类任务中使用“投票法”，选择 k 个样本中出现最多的类别标记为预测结果；\n",
    "    2. 回归任务中使用“平均法”，将 k 个样本的实值输出标记的平均值作为预测结果；\n",
    "    3. 可以根据距离远近来进行加权平均或者加权投票，距离越近的样本权重越大。\n"
   ]
  },
  {
   "cell_type": "markdown",
   "metadata": {},
   "source": [
    "<img src='figure/knn.jpg' width='400' height='300' align='left'>"
   ]
  },
  {
   "cell_type": "markdown",
   "metadata": {},
   "source": [
    "**算法的优缺点：**\n",
    "1. 和其他学习方法不同， k 近邻学习没有显式的训练过程，是“懒惰学习”的著名代表（朴素贝叶斯也是），在训练阶段仅仅是把样本保存起来，训练时间开销为零，收到测试样本再进行处理；\n",
    "2. 优点是准确性高，对异常值和噪声有较高的容忍度；\n",
    "3. 缺点是计算量大，对内存需求比较大。每次对一个未标记样本进行分类时，都需要全部计算一遍距离；\n",
    "4. 在训练集较小时，泛化能力很差；\n",
    "5. 不能学习出哪一个特征比其他更具识别力。\n",
    "\n",
    "**影响算法结果的因素：**\n",
    "\n",
    "1. k 是一个重要参数，当 k 取不同值时（意味着扩大搜索范围），分类结果会有显著不同：\n",
    "      * k 值越大，模型的偏差越大； \n",
    "      * k 值越小，模型的方差就越大；\n",
    "      \n",
    "    \n",
    "2. 采用不同的距离计算方式，找出的“近邻”可能也会有显著差别，从而导致分类结果的显著不同。"
   ]
  },
  {
   "cell_type": "markdown",
   "metadata": {},
   "source": [
    "## 算法流程"
   ]
  },
  {
   "cell_type": "markdown",
   "metadata": {},
   "source": [
    "假设 $x_{test}$ 是待标记的数据样本， $X_{train}$ 是已标记的数据集，伪代码如下：\n",
    "***\n",
    "1. **输入：** $x_{test}$, $X_{train}$,  K，  Distance 空数组\n",
    "\n",
    "2. for i = 1,2,...,$|X_{train}|$:\n",
    "3. 计算 $d_{i} = dist(\\mathbf{x}_i, x_{test}),\\quad \\mathbf{x}_i\\in X_{train} $（采用什么度量视具体问题而定），并将 $d_{i}$ 保存在Distance 数组；\n",
    "4. end for\n",
    "5. 对 Distance 数组按照距离从小到大进行排序，选取前 K 个元素，记为  $X_{knn}$，\n",
    "6. 在 $X_{knn}$ 中对元素的标记采用“投票法”或者“平均法”来得到 $X_{test}$ 的标记。\n",
    "***"
   ]
  },
  {
   "cell_type": "markdown",
   "metadata": {},
   "source": [
    "## [sklearn.neighbors.KNeighborsClassifier](https://scikit-learn.org/stable/modules/generated/sklearn.neighbors.KNeighborsClassifier.html#sklearn.neighbors.KNeighborsClassifier)"
   ]
  },
  {
   "cell_type": "markdown",
   "metadata": {},
   "source": [
    "## [sklearn.neighbors.KNeighborsRegressor](https://scikit-learn.org/stable/modules/generated/sklearn.neighbors.KNeighborsRegressor.html#sklearn.neighbors.KNeighborsRegressor)"
   ]
  },
  {
   "cell_type": "markdown",
   "metadata": {},
   "source": [
    "## 算法的变种"
   ]
  },
  {
   "cell_type": "markdown",
   "metadata": {},
   "source": [
    "相比找寻 k 个最近的点，另一种做法是使用一定半径内的点取代距离最近的 k 个点，当数据采样不均匀时，该算法可以取得更好的性能。在sklearn里，[sklearn.neighbors.RadiusNeighborsClassifier](https://scikit-learn.org/stable/modules/generated/sklearn.neighbors.RadiusNeighborsClassifier.html#sklearn.neighbors.RadiusNeighborsClassifier)和 [sklearn.neighbors.RadiusNeighborsRegressor](https://scikit-learn.org/stable/modules/generated/sklearn.neighbors.RadiusNeighborsRegressor.html#sklearn.neighbors.RadiusNeighborsRegressor)实现了这个变种。"
   ]
  },
  {
   "cell_type": "markdown",
   "metadata": {},
   "source": [
    "## 糖尿病预测"
   ]
  },
  {
   "cell_type": "code",
   "execution_count": 1,
   "metadata": {
    "ExecuteTime": {
     "end_time": "2019-01-23T03:04:45.204000Z",
     "start_time": "2019-01-23T03:04:43.688000Z"
    }
   },
   "outputs": [],
   "source": [
    "%matplotlib inline\n",
    "import matplotlib.pyplot as plt\n",
    "import numpy as np\n",
    "import pandas as pd"
   ]
  },
  {
   "cell_type": "markdown",
   "metadata": {},
   "source": [
    "**加载数据**"
   ]
  },
  {
   "cell_type": "code",
   "execution_count": 2,
   "metadata": {
    "ExecuteTime": {
     "end_time": "2019-01-23T03:14:51.238000Z",
     "start_time": "2019-01-23T03:14:51.171000Z"
    }
   },
   "outputs": [
    {
     "name": "stdout",
     "output_type": "stream",
     "text": [
      "dataset shape (768, 9)\n"
     ]
    },
    {
     "data": {
      "text/html": [
       "<div>\n",
       "<style scoped>\n",
       "    .dataframe tbody tr th:only-of-type {\n",
       "        vertical-align: middle;\n",
       "    }\n",
       "\n",
       "    .dataframe tbody tr th {\n",
       "        vertical-align: top;\n",
       "    }\n",
       "\n",
       "    .dataframe thead th {\n",
       "        text-align: right;\n",
       "    }\n",
       "</style>\n",
       "<table border=\"1\" class=\"dataframe\">\n",
       "  <thead>\n",
       "    <tr style=\"text-align: right;\">\n",
       "      <th></th>\n",
       "      <th>Pregnancies</th>\n",
       "      <th>Glucose</th>\n",
       "      <th>BloodPressure</th>\n",
       "      <th>SkinThickness</th>\n",
       "      <th>Insulin</th>\n",
       "      <th>BMI</th>\n",
       "      <th>DiabetesPedigreeFunction</th>\n",
       "      <th>Age</th>\n",
       "      <th>Outcome</th>\n",
       "    </tr>\n",
       "  </thead>\n",
       "  <tbody>\n",
       "    <tr>\n",
       "      <th>0</th>\n",
       "      <td>6</td>\n",
       "      <td>148</td>\n",
       "      <td>72</td>\n",
       "      <td>35</td>\n",
       "      <td>0</td>\n",
       "      <td>33.6</td>\n",
       "      <td>0.627</td>\n",
       "      <td>50</td>\n",
       "      <td>1</td>\n",
       "    </tr>\n",
       "    <tr>\n",
       "      <th>1</th>\n",
       "      <td>1</td>\n",
       "      <td>85</td>\n",
       "      <td>66</td>\n",
       "      <td>29</td>\n",
       "      <td>0</td>\n",
       "      <td>26.6</td>\n",
       "      <td>0.351</td>\n",
       "      <td>31</td>\n",
       "      <td>0</td>\n",
       "    </tr>\n",
       "    <tr>\n",
       "      <th>2</th>\n",
       "      <td>8</td>\n",
       "      <td>183</td>\n",
       "      <td>64</td>\n",
       "      <td>0</td>\n",
       "      <td>0</td>\n",
       "      <td>23.3</td>\n",
       "      <td>0.672</td>\n",
       "      <td>32</td>\n",
       "      <td>1</td>\n",
       "    </tr>\n",
       "    <tr>\n",
       "      <th>3</th>\n",
       "      <td>1</td>\n",
       "      <td>89</td>\n",
       "      <td>66</td>\n",
       "      <td>23</td>\n",
       "      <td>94</td>\n",
       "      <td>28.1</td>\n",
       "      <td>0.167</td>\n",
       "      <td>21</td>\n",
       "      <td>0</td>\n",
       "    </tr>\n",
       "    <tr>\n",
       "      <th>4</th>\n",
       "      <td>0</td>\n",
       "      <td>137</td>\n",
       "      <td>40</td>\n",
       "      <td>35</td>\n",
       "      <td>168</td>\n",
       "      <td>43.1</td>\n",
       "      <td>2.288</td>\n",
       "      <td>33</td>\n",
       "      <td>1</td>\n",
       "    </tr>\n",
       "  </tbody>\n",
       "</table>\n",
       "</div>"
      ],
      "text/plain": [
       "   Pregnancies  Glucose  BloodPressure  SkinThickness  Insulin   BMI  \\\n",
       "0            6      148             72             35        0  33.6   \n",
       "1            1       85             66             29        0  26.6   \n",
       "2            8      183             64              0        0  23.3   \n",
       "3            1       89             66             23       94  28.1   \n",
       "4            0      137             40             35      168  43.1   \n",
       "\n",
       "   DiabetesPedigreeFunction  Age  Outcome  \n",
       "0                     0.627   50        1  \n",
       "1                     0.351   31        0  \n",
       "2                     0.672   32        1  \n",
       "3                     0.167   21        0  \n",
       "4                     2.288   33        1  "
      ]
     },
     "execution_count": 2,
     "metadata": {},
     "output_type": "execute_result"
    }
   ],
   "source": [
    "data = pd.read_csv('datasets/diabetes.csv')\n",
    "print('dataset shape {}'.format(data.shape))\n",
    "data.head()"
   ]
  },
  {
   "cell_type": "code",
   "execution_count": 3,
   "metadata": {
    "ExecuteTime": {
     "end_time": "2019-01-23T03:07:52.506000Z",
     "start_time": "2019-01-23T03:07:52.484000Z"
    }
   },
   "outputs": [
    {
     "data": {
      "text/plain": [
       "Outcome\n",
       "0    500\n",
       "1    268\n",
       "dtype: int64"
      ]
     },
     "execution_count": 3,
     "metadata": {},
     "output_type": "execute_result"
    }
   ],
   "source": [
    "# 查看阳性和阴性样本的个数\n",
    "data.groupby(\"Outcome\").size()"
   ]
  },
  {
   "cell_type": "code",
   "execution_count": 4,
   "metadata": {
    "ExecuteTime": {
     "end_time": "2019-01-23T03:08:46.721000Z",
     "start_time": "2019-01-23T03:08:45.274000Z"
    }
   },
   "outputs": [
    {
     "name": "stdout",
     "output_type": "stream",
     "text": [
      "shape of X (768, 8); shape of Y (768,)\n"
     ]
    }
   ],
   "source": [
    "# 拆分训练集和测试集\n",
    "X = data.iloc[:, 0:8]\n",
    "Y = data.iloc[:, 8]\n",
    "print('shape of X {}; shape of Y {}'.format(X.shape, Y.shape))\n",
    "from sklearn.model_selection import train_test_split\n",
    "X_train, X_test, Y_train, Y_test = train_test_split(X, Y, test_size=0.2);"
   ]
  },
  {
   "cell_type": "markdown",
   "metadata": {},
   "source": [
    "**模型比较**"
   ]
  },
  {
   "cell_type": "code",
   "execution_count": 5,
   "metadata": {
    "ExecuteTime": {
     "end_time": "2019-01-23T03:10:03.970000Z",
     "start_time": "2019-01-23T03:10:03.815000Z"
    }
   },
   "outputs": [
    {
     "name": "stdout",
     "output_type": "stream",
     "text": [
      "name: KNN; score: 0.7077922077922078\n",
      "name: KNN with weights; score: 0.7142857142857143\n",
      "name: Radius Neighbors; score: 0.6558441558441559\n"
     ]
    },
    {
     "name": "stderr",
     "output_type": "stream",
     "text": [
      "C:\\Program Files\\Python310\\lib\\site-packages\\sklearn\\neighbors\\_classification.py:462: FutureWarning: Passing additional keyword parameters has no effect and is deprecated in 1.0. An error will be raised from 1.2 and beyond. The ignored keyword parameter(s) are: dict_keys(['n_neighbors']).\n",
      "  warnings.warn(\n"
     ]
    }
   ],
   "source": [
    "# 模型比较：使用普通的knn、加权的knn、指定半径的knn对数据进行拟合和计算评分\n",
    "from sklearn.neighbors import KNeighborsClassifier, RadiusNeighborsClassifier\n",
    "\n",
    "models = []\n",
    "models.append((\"KNN\", KNeighborsClassifier(n_neighbors=2)))\n",
    "models.append((\"KNN with weights\", KNeighborsClassifier(\n",
    "    n_neighbors=2, weights=\"distance\")))\n",
    "models.append((\"Radius Neighbors\", RadiusNeighborsClassifier(\n",
    "    n_neighbors=2, radius=500.0)))\n",
    "\n",
    "results = []\n",
    "for name, model in models:\n",
    "    model.fit(X_train, Y_train)\n",
    "    results.append((name, model.score(X_test, Y_test)))\n",
    "for i in range(len(results)):\n",
    "    print(\"name: {}; score: {}\".format(results[i][0],results[i][1]))"
   ]
  },
  {
   "cell_type": "markdown",
   "metadata": {},
   "source": [
    "从结果来看，好像普通的knn效果最好，但这个不准确，因为我们是随机进行数据拆分的，下面我们使用 [KFold](https://scikit-learn.org/stable/modules/generated/sklearn.model_selection.KFold.html)、[cross_val_score()](https://scikit-learn.org/stable/modules/generated/sklearn.model_selection.cross_val_score.html) 来进行多次随机分配以取得比较准确的判断。"
   ]
  },
  {
   "cell_type": "code",
   "execution_count": 6,
   "metadata": {
    "ExecuteTime": {
     "end_time": "2019-01-23T03:12:07.770000Z",
     "start_time": "2019-01-23T03:12:07.482000Z"
    }
   },
   "outputs": [
    {
     "name": "stdout",
     "output_type": "stream",
     "text": [
      "name: KNN; cross val score: 0.7147641831852358\n",
      "name: KNN with weights; cross val score: 0.6770505809979495\n",
      "name: Radius Neighbors; cross val score: 0.6497265892002735\n"
     ]
    }
   ],
   "source": [
    "from sklearn.model_selection import KFold\n",
    "from sklearn.model_selection import cross_val_score\n",
    "\n",
    "results = []\n",
    "for name, model in models:\n",
    "    kfold = KFold(n_splits=10)\n",
    "    cv_result = cross_val_score(model, X, Y, cv=kfold)\n",
    "    results.append((name, cv_result))\n",
    "for i in range(len(results)):\n",
    "    print(\"name: {}; cross val score: {}\".format(\n",
    "        results[i][0],results[i][1].mean()))"
   ]
  },
  {
   "cell_type": "markdown",
   "metadata": {},
   "source": [
    "看起来还是普通的knn比较准确。接下来我们使用普通的knn对数据集进行训练，查看在训练集和测试集上的预测准确性。"
   ]
  },
  {
   "cell_type": "markdown",
   "metadata": {},
   "source": [
    "**模型训练**"
   ]
  },
  {
   "cell_type": "code",
   "execution_count": 7,
   "metadata": {
    "ExecuteTime": {
     "end_time": "2019-01-23T03:15:12.549000Z",
     "start_time": "2019-01-23T03:15:12.520000Z"
    }
   },
   "outputs": [
    {
     "name": "stdout",
     "output_type": "stream",
     "text": [
      "train score: 0.8322475570032574; test score: 0.7077922077922078\n"
     ]
    }
   ],
   "source": [
    "knn = KNeighborsClassifier(n_neighbors=2)\n",
    "knn.fit(X_train, Y_train)\n",
    "train_score = knn.score(X_train, Y_train)\n",
    "test_score = knn.score(X_test, Y_test)\n",
    "print(\"train score: {}; test score: {}\".format(train_score, test_score))"
   ]
  },
  {
   "cell_type": "markdown",
   "metadata": {},
   "source": [
    "从结果来看，拟合效果和预测的准确性都欠佳。我们画出学习曲线来证实结论。"
   ]
  },
  {
   "cell_type": "code",
   "execution_count": 8,
   "metadata": {
    "ExecuteTime": {
     "end_time": "2019-01-23T03:16:11.582000Z",
     "start_time": "2019-01-23T03:16:10.928000Z"
    }
   },
   "outputs": [
    {
     "data": {
      "image/png": "[encoded data removed]",
      "text/plain": [
       "<Figure size 720x432 with 1 Axes>"
      ]
     },
     "metadata": {
      "needs_background": "light"
     },
     "output_type": "display_data"
    }
   ],
   "source": [
    "from sklearn.model_selection import ShuffleSplit\n",
    "from common.utils import plot_learning_curve\n",
    "\n",
    "knn = KNeighborsClassifier(n_neighbors=2)\n",
    "cv = ShuffleSplit(n_splits=10, test_size=0.2, random_state=0)\n",
    "plt.figure(figsize=(10, 6))\n",
    "plot_learning_curve(plt, knn, \"Learn Curve for KNN Diabetes\", \n",
    "                    X, Y, ylim=(0.0, 1.01), cv=cv);"
   ]
  },
  {
   "cell_type": "markdown",
   "metadata": {},
   "source": [
    "从图中看出，**训练样本评分较低，且测试样本与训练样本距离较大，这是典型的欠拟合现象。**\n",
    "\n",
    "knn 没有更好的措施来解决欠拟合问题，可以使用其他算法（LR/SVM等）来对比下不同模型的拟合情况。"
   ]
  },
  {
   "cell_type": "markdown",
   "metadata": {},
   "source": [
    "**特征选择及数据可视化**"
   ]
  },
  {
   "cell_type": "markdown",
   "metadata": {},
   "source": [
    "我们下面通过选取与输出值相关性最大的2个特征在平面上的分布来直观观察。在 [sklearn.feature_selection](https://scikit-learn.org/stable/modules/classes.html#module-sklearn.model_selection) 里提供了丰富的特征选择方法。我们使用 [sklearn.feature_selection.SelectKBest](https://scikit-learn.org/stable/modules/generated/sklearn.feature_selection.SelectKBest.html) 来选择相关性最大的两个特征（具体原理参考官网）。"
   ]
  },
  {
   "cell_type": "code",
   "execution_count": 9,
   "metadata": {
    "ExecuteTime": {
     "end_time": "2019-01-23T03:24:53.809000Z",
     "start_time": "2019-01-23T03:24:53.773000Z"
    }
   },
   "outputs": [
    {
     "data": {
      "text/plain": [
       "array([[148. ,  33.6],\n",
       "       [ 85. ,  26.6],\n",
       "       [183. ,  23.3],\n",
       "       [ 89. ,  28.1],\n",
       "       [137. ,  43.1]])"
      ]
     },
     "execution_count": 9,
     "metadata": {},
     "output_type": "execute_result"
    }
   ],
   "source": [
    "from sklearn.feature_selection import SelectKBest\n",
    "\n",
    "selector = SelectKBest(k=2)\n",
    "X_new = selector.fit_transform(X, Y)\n",
    "X_new[0:5]"
   ]
  },
  {
   "cell_type": "markdown",
   "metadata": {},
   "source": [
    "对比下开头的数据可知，这两个指标分别为 Glucose(血糖浓度)和 BMI(身体质量指数)。下面我们来看看如果只使用这2个特征，3种不同的knn模型哪个准确性更高。"
   ]
  },
  {
   "cell_type": "code",
   "execution_count": 10,
   "metadata": {
    "ExecuteTime": {
     "end_time": "2019-01-23T03:27:11.343000Z",
     "start_time": "2019-01-23T03:27:11.085000Z"
    }
   },
   "outputs": [
    {
     "name": "stdout",
     "output_type": "stream",
     "text": [
      "name: KNN; cross val score: 0.7239063568010937\n",
      "name: KNN with weights; cross val score: 0.6900375939849623\n",
      "name: Radius Neighbors; cross val score: 0.6510252904989747\n"
     ]
    }
   ],
   "source": [
    "results = []\n",
    "for name, model in models:\n",
    "    kfold = KFold(n_splits=10)\n",
    "    cv_result = cross_val_score(model, X_new, Y, cv=kfold)\n",
    "    results.append((name, cv_result))\n",
    "for i in range(len(results)):\n",
    "    print(\"name: {}; cross val score: {}\".format(\n",
    "        results[i][0],results[i][1].mean()))"
   ]
  },
  {
   "cell_type": "markdown",
   "metadata": {},
   "source": [
    "从输出看，还是普通的 knn 准确性更高，准确性也达到了将近73%，接近拿所有特征来进行训练的准确性。"
   ]
  },
  {
   "cell_type": "code",
   "execution_count": 11,
   "metadata": {
    "ExecuteTime": {
     "end_time": "2019-01-23T03:28:23.041000Z",
     "start_time": "2019-01-23T03:28:22.787000Z"
    }
   },
   "outputs": [
    {
     "data": {
      "image/png": "[encoded data removed]",
      "text/plain": [
       "<Figure size 720x432 with 1 Axes>"
      ]
     },
     "metadata": {
      "needs_background": "light"
     },
     "output_type": "display_data"
    }
   ],
   "source": [
    "# 画出数据\n",
    "plt.figure(figsize=(10, 6))\n",
    "plt.ylabel(\"BMI\")\n",
    "plt.xlabel(\"Glucose\")\n",
    "plt.scatter(X_new[Y==0][:, 0], X_new[Y==0][:, 1], c='r', s=20, marker='o');         # 画出样本\n",
    "plt.scatter(X_new[Y==1][:, 0], X_new[Y==1][:, 1], c='g', s=20, marker='^');         # 画出样本"
   ]
  },
  {
   "cell_type": "markdown",
   "metadata": {},
   "source": [
    "从上图看出，中间数据集密集的区域，阳性样本和阴性样本几乎重叠。假设现在一个待遇测的样本在中间密集区域，很难说阳性还是阴性邻居更多。说明，knn 对数据分布的变化是弱鲁棒性的。"
   ]
  }
 ],
 "metadata": {
  "kernelspec": {
   "display_name": "Python 3 (ipykernel)",
   "language": "python",
   "name": "python3"
  },
  "language_info": {
   "codemirror_mode": {
    "name": "ipython",
    "version": 3
   },
   "file_extension": ".py",
   "mimetype": "text/x-python",
   "name": "python",
   "nbconvert_exporter": "python",
   "pygments_lexer": "ipython3",
   "version": "3.10.1"
  },
  "toc": {
   "base_numbering": 1,
   "nav_menu": {},
   "number_sections": true,
   "sideBar": true,
   "skip_h1_title": false,
   "title_cell": "Table of Contents",
   "title_sidebar": "Contents",
   "toc_cell": false,
   "toc_position": {
    "height": "calc(100% - 180px)",
    "left": "10px",
    "top": "150px",
    "width": "273.188px"
   },
   "toc_section_display": true,
   "toc_window_display": true
  }
 },
 "nbformat": 4,
 "nbformat_minor": 2
}
